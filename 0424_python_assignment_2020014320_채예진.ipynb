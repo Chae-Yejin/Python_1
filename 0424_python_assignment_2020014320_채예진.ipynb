{
  "nbformat": 4,
  "nbformat_minor": 0,
  "metadata": {
    "colab": {
      "name": "0424 python_assignment - 2020014320 채예진.ipynb",
      "provenance": [],
      "collapsed_sections": [],
      "authorship_tag": "ABX9TyMKF4PmVuWHBg2kPa+m5WEx",
      "include_colab_link": true
    },
    "kernelspec": {
      "name": "python3",
      "display_name": "Python 3"
    }
  },
  "cells": [
    {
      "cell_type": "markdown",
      "metadata": {
        "id": "view-in-github",
        "colab_type": "text"
      },
      "source": [
        "<a href=\"https://colab.research.google.com/github/Chae-Yejin/Python_1/blob/master/0424_python_assignment_2020014320_%EC%B1%84%EC%98%88%EC%A7%84.ipynb\" target=\"_parent\"><img src=\"https://colab.research.google.com/assets/colab-badge.svg\" alt=\"Open In Colab\"/></a>"
      ]
    },
    {
      "cell_type": "markdown",
      "metadata": {
        "id": "dA7Ph1JPjzG1",
        "colab_type": "text"
      },
      "source": [
        "# Assignment 1"
      ]
    },
    {
      "cell_type": "markdown",
      "metadata": {
        "id": "dQhjvyapj4nz",
        "colab_type": "text"
      },
      "source": [
        "- Modify the Rectangle class in order to change (width, height, and color) : you need to declare three methods to do separately..."
      ]
    },
    {
      "cell_type": "code",
      "metadata": {
        "id": "VOw4PBBApoxa",
        "colab_type": "code",
        "colab": {}
      },
      "source": [
        "import matplotlib.pyplot as plt\n",
        "%matplotlib inline"
      ],
      "execution_count": 0,
      "outputs": []
    },
    {
      "cell_type": "code",
      "metadata": {
        "id": "Cbz7cNk_juKv",
        "colab_type": "code",
        "colab": {}
      },
      "source": [
        "class Rectangle(object):\n",
        "\n",
        "  def __init__(self, width, height, color):\n",
        "    self.width = width\n",
        "    self.height = height\n",
        "    self.color = color\n",
        "\n",
        "  def change_width(self, w):\n",
        "    self.width = self.width + w\n",
        "    return self.width\n",
        "\n",
        "  def change_height(self, h):\n",
        "    self.height = self.height + h\n",
        "    return self.height\n",
        "\n",
        "  def change_color(self, c):\n",
        "    self.color = c\n",
        "    return self.color\n",
        "\n",
        "  def drawRectangle(self):\n",
        "    plt.gca().add_patch(plt.Rectangle((0,0), self.width, self.height, fc = self.color))\n",
        "    plt.axis('scaled')\n",
        "    plt.show()"
      ],
      "execution_count": 0,
      "outputs": []
    },
    {
      "cell_type": "code",
      "metadata": {
        "id": "11wpzS2jlQfF",
        "colab_type": "code",
        "colab": {}
      },
      "source": [
        "Rec = Rectangle(4, 7, 'red')"
      ],
      "execution_count": 0,
      "outputs": []
    },
    {
      "cell_type": "code",
      "metadata": {
        "id": "v2SSWs3Fqdb3",
        "colab_type": "code",
        "outputId": "403ba943-a24e-466b-c480-21e4db5a1400",
        "colab": {
          "base_uri": "https://localhost:8080/",
          "height": 265
        }
      },
      "source": [
        "Rec.drawRectangle()"
      ],
      "execution_count": 4,
      "outputs": [
        {
          "output_type": "display_data",
          "data": {
            "image/png": "[encoded data removed]",
            "text/plain": [
              "<Figure size 432x288 with 1 Axes>"
            ]
          },
          "metadata": {
            "tags": [],
            "needs_background": "light"
          }
        }
      ]
    },
    {
      "cell_type": "code",
      "metadata": {
        "id": "t0fWnv5qqZA2",
        "colab_type": "code",
        "outputId": "bf6cff33-355f-4210-b946-1a629297a159",
        "colab": {
          "base_uri": "https://localhost:8080/",
          "height": 36
        }
      },
      "source": [
        "Rec.change_width(6)"
      ],
      "execution_count": 5,
      "outputs": [
        {
          "output_type": "execute_result",
          "data": {
            "text/plain": [
              "10"
            ]
          },
          "metadata": {
            "tags": []
          },
          "execution_count": 5
        }
      ]
    },
    {
      "cell_type": "code",
      "metadata": {
        "id": "VLyIZjpxtB5F",
        "colab_type": "code",
        "outputId": "9f8f6d98-8914-402e-a79a-e909494628f3",
        "colab": {
          "base_uri": "https://localhost:8080/",
          "height": 36
        }
      },
      "source": [
        "Rec.change_height(-3)"
      ],
      "execution_count": 6,
      "outputs": [
        {
          "output_type": "execute_result",
          "data": {
            "text/plain": [
              "4"
            ]
          },
          "metadata": {
            "tags": []
          },
          "execution_count": 6
        }
      ]
    },
    {
      "cell_type": "code",
      "metadata": {
        "id": "E5kwkU40pvHl",
        "colab_type": "code",
        "outputId": "66d53ff7-1e8b-4a45-d6ec-c1d7f43fd50b",
        "colab": {
          "base_uri": "https://localhost:8080/",
          "height": 36
        }
      },
      "source": [
        "Rec.change_color('blue')"
      ],
      "execution_count": 7,
      "outputs": [
        {
          "output_type": "execute_result",
          "data": {
            "text/plain": [
              "'blue'"
            ]
          },
          "metadata": {
            "tags": []
          },
          "execution_count": 7
        }
      ]
    },
    {
      "cell_type": "code",
      "metadata": {
        "id": "yUNhEW5Epk-J",
        "colab_type": "code",
        "outputId": "7d6b8184-feb4-46a4-d25e-b116e8fbf712",
        "colab": {
          "base_uri": "https://localhost:8080/",
          "height": 182
        }
      },
      "source": [
        "Rec.drawRectangle()"
      ],
      "execution_count": 8,
      "outputs": [
        {
          "output_type": "display_data",
          "data": {
            "image/png": "[encoded data removed]",
            "text/plain": [
              "<Figure size 432x288 with 1 Axes>"
            ]
          },
          "metadata": {
            "tags": [],
            "needs_background": "light"
          }
        }
      ]
    },
    {
      "cell_type": "markdown",
      "metadata": {
        "id": "h8VC4UX99Z92",
        "colab_type": "text"
      },
      "source": [
        "# Assignment 2"
      ]
    },
    {
      "cell_type": "markdown",
      "metadata": {
        "id": "6SpxztW89iNF",
        "colab_type": "text"
      },
      "source": [
        "- Create a txt file with radius and colour information (at least 3 lines)"
      ]
    },
    {
      "cell_type": "code",
      "metadata": {
        "id": "8VbxQx5ebkya",
        "colab_type": "code",
        "outputId": "3382c36d-b80b-43db-f344-2eda3a208e76",
        "colab": {
          "base_uri": "https://localhost:8080/",
          "height": 36
        }
      },
      "source": [
        "from google.colab import drive\n",
        "drive.mount('/content/gdrive')"
      ],
      "execution_count": 9,
      "outputs": [
        {
          "output_type": "stream",
          "text": [
            "Drive already mounted at /content/gdrive; to attempt to forcibly remount, call drive.mount(\"/content/gdrive\", force_remount=True).\n"
          ],
          "name": "stdout"
        }
      ]
    },
    {
      "cell_type": "code",
      "metadata": {
        "id": "uSQ7GAa-bwsY",
        "colab_type": "code",
        "colab": {}
      },
      "source": [
        "Circle_info = \"/content/gdrive/My Drive/Circle information.txt\""
      ],
      "execution_count": 0,
      "outputs": []
    },
    {
      "cell_type": "code",
      "metadata": {
        "id": "ELzKVReqbzKs",
        "colab_type": "code",
        "outputId": "15115319-c7a7-43e0-b73f-3d57209d74bd",
        "colab": {
          "base_uri": "https://localhost:8080/",
          "height": 73
        }
      },
      "source": [
        "with open(Circle_info, \"r\") as Circle:\n",
        "  File_Circle = Circle.read()\n",
        "  print(File_Circle)"
      ],
      "execution_count": 11,
      "outputs": [
        {
          "output_type": "stream",
          "text": [
            "5 red\n",
            "13 blue\n",
            "9 yellow\n"
          ],
          "name": "stdout"
        }
      ]
    },
    {
      "cell_type": "markdown",
      "metadata": {
        "id": "QFNrirFZ9ntd",
        "colab_type": "text"
      },
      "source": [
        "- Create a txt file with height, width, and colour information (at least 3 lines)"
      ]
    },
    {
      "cell_type": "code",
      "metadata": {
        "id": "qJi4OTXCb66-",
        "colab_type": "code",
        "colab": {}
      },
      "source": [
        "Rectangle_info = \"/content/gdrive/My Drive/Rectangle information.txt\""
      ],
      "execution_count": 0,
      "outputs": []
    },
    {
      "cell_type": "code",
      "metadata": {
        "id": "UPyj34l3b88F",
        "colab_type": "code",
        "outputId": "1ec529e6-b0b7-4a1a-df07-f6373bd87db0",
        "colab": {
          "base_uri": "https://localhost:8080/",
          "height": 73
        }
      },
      "source": [
        "with open(Rectangle_info, \"r\") as Rectangle:\n",
        "  File_Rectangle = Rectangle.read()\n",
        "  print(File_Rectangle)"
      ],
      "execution_count": 13,
      "outputs": [
        {
          "output_type": "stream",
          "text": [
            "5 9 orange\n",
            "13 7 black\n",
            "27 35 pink\n"
          ],
          "name": "stdout"
        }
      ]
    },
    {
      "cell_type": "markdown",
      "metadata": {
        "id": "5BfPy_xk90Y7",
        "colab_type": "text"
      },
      "source": [
        "- Using your files (two txt files), you need to create objects (circles, and rectangles)"
      ]
    },
    {
      "cell_type": "code",
      "metadata": {
        "id": "tlL_qvaZFjqy",
        "colab_type": "code",
        "outputId": "7af4ca73-ed23-464a-ee52-bc3452cc92ad",
        "colab": {
          "base_uri": "https://localhost:8080/",
          "height": 73
        }
      },
      "source": [
        "with open(Circle_info, \"r\") as Circle:\n",
        "  Circle_0 = Circle.readline().split()\n",
        "  Circle_1 = Circle.readline().split()\n",
        "  Circle_2 = Circle.readline().split()\n",
        "  print(Circle_0)\n",
        "  print(Circle_1)\n",
        "  print(Circle_2)"
      ],
      "execution_count": 14,
      "outputs": [
        {
          "output_type": "stream",
          "text": [
            "['5', 'red']\n",
            "['13', 'blue']\n",
            "['9', 'yellow']\n"
          ],
          "name": "stdout"
        }
      ]
    },
    {
      "cell_type": "code",
      "metadata": {
        "id": "o7Wd_YVJpUTv",
        "colab_type": "code",
        "colab": {}
      },
      "source": [
        "class Circle(object):\n",
        "\n",
        "  def __init__(self, radius, color):\n",
        "    self.radius = radius\n",
        "    self.color = color\n",
        "\n",
        "  def add_radius(self, r):\n",
        "    self.radius = self.radius + r\n",
        "    return self.radius\n",
        "\n",
        "  def change_color(self, c):\n",
        "    self.color = c\n",
        "    return self.color\n",
        "\n",
        "  def drawCircle(self):\n",
        "    plt.gca().add_patch(plt.Circle((0,0), radius = self.radius, fc = self.color))\n",
        "    plt.axis('scaled')\n",
        "    plt.show()"
      ],
      "execution_count": 0,
      "outputs": []
    },
    {
      "cell_type": "code",
      "metadata": {
        "id": "4pGIUnVqhruL",
        "colab_type": "code",
        "colab": {}
      },
      "source": [
        "Cir_0 = Circle(int(Circle_0[0]), Circle_0[1])"
      ],
      "execution_count": 0,
      "outputs": []
    },
    {
      "cell_type": "code",
      "metadata": {
        "id": "xycS9Om6h43t",
        "colab_type": "code",
        "outputId": "b8343939-e567-45f0-b63c-336962517504",
        "colab": {
          "base_uri": "https://localhost:8080/",
          "height": 265
        }
      },
      "source": [
        "Cir_0.drawCircle()"
      ],
      "execution_count": 17,
      "outputs": [
        {
          "output_type": "display_data",
          "data": {
            "image/png": "[encoded data removed]",
            "text/plain": [
              "<Figure size 432x288 with 1 Axes>"
            ]
          },
          "metadata": {
            "tags": [],
            "needs_background": "light"
          }
        }
      ]
    },
    {
      "cell_type": "code",
      "metadata": {
        "id": "q4v8xGZu4Vh4",
        "colab_type": "code",
        "colab": {}
      },
      "source": [
        "Cir_1 = Circle(int(Circle_1[0]), Circle_1[1])"
      ],
      "execution_count": 0,
      "outputs": []
    },
    {
      "cell_type": "code",
      "metadata": {
        "id": "zL9RhPj54cub",
        "colab_type": "code",
        "outputId": "5da1f5e5-af2c-45f0-b23c-ec7a47868ebf",
        "colab": {
          "base_uri": "https://localhost:8080/",
          "height": 265
        }
      },
      "source": [
        "Cir_1.drawCircle()"
      ],
      "execution_count": 19,
      "outputs": [
        {
          "output_type": "display_data",
          "data": {
            "image/png": "[encoded data removed]",
            "text/plain": [
              "<Figure size 432x288 with 1 Axes>"
            ]
          },
          "metadata": {
            "tags": [],
            "needs_background": "light"
          }
        }
      ]
    },
    {
      "cell_type": "code",
      "metadata": {
        "id": "7ovVN7Lu4iWK",
        "colab_type": "code",
        "colab": {}
      },
      "source": [
        "Cir_2 = Circle(int(Circle_2[0]), Circle_2[1])"
      ],
      "execution_count": 0,
      "outputs": []
    },
    {
      "cell_type": "code",
      "metadata": {
        "id": "vDFY5H0Z4l9M",
        "colab_type": "code",
        "outputId": "64538994-f8cf-402e-d57b-e9a97762fd6a",
        "colab": {
          "base_uri": "https://localhost:8080/",
          "height": 265
        }
      },
      "source": [
        "Cir_2.drawCircle()"
      ],
      "execution_count": 21,
      "outputs": [
        {
          "output_type": "display_data",
          "data": {
            "image/png": "[encoded data removed]",
            "text/plain": [
              "<Figure size 432x288 with 1 Axes>"
            ]
          },
          "metadata": {
            "tags": [],
            "needs_background": "light"
          }
        }
      ]
    },
    {
      "cell_type": "code",
      "metadata": {
        "id": "ZP9Iaq20Ft8P",
        "colab_type": "code",
        "outputId": "6c219c92-4cbf-4dcf-a5be-3d8fccd4cf99",
        "colab": {
          "base_uri": "https://localhost:8080/",
          "height": 73
        }
      },
      "source": [
        "with open(Rectangle_info, \"r\") as Rectangle:\n",
        "  Rectangle_0 = Rectangle.readline().split()\n",
        "  Rectangle_1 = Rectangle.readline().split()\n",
        "  Rectangle_2 = Rectangle.readline().split()\n",
        "  print(Rectangle_0)\n",
        "  print(Rectangle_1)\n",
        "  print(Rectangle_2)"
      ],
      "execution_count": 22,
      "outputs": [
        {
          "output_type": "stream",
          "text": [
            "['5', '9', 'orange']\n",
            "['13', '7', 'black']\n",
            "['27', '35', 'pink']\n"
          ],
          "name": "stdout"
        }
      ]
    },
    {
      "cell_type": "code",
      "metadata": {
        "id": "a4kn6Tx_q3Bs",
        "colab_type": "code",
        "colab": {}
      },
      "source": [
        "class Rectangle(object):\n",
        "\n",
        "  def __init__(self, width, height, color):\n",
        "    self.width = width\n",
        "    self.height = height\n",
        "    self.color = color\n",
        "\n",
        "  def change_width(self, w):\n",
        "    self.width = self.width + w\n",
        "    return self.width\n",
        "\n",
        "  def change_height(self, h):\n",
        "    self.height = self.height + h\n",
        "    return self.height\n",
        "\n",
        "  def change_color(self, c):\n",
        "    self.color = c\n",
        "    return self.color\n",
        "\n",
        "  def drawRectangle(self):\n",
        "    plt.gca().add_patch(plt.Rectangle((0,0), self.width, self.height, fc = self.color))\n",
        "    plt.axis('scaled')\n",
        "    plt.show()"
      ],
      "execution_count": 0,
      "outputs": []
    },
    {
      "cell_type": "code",
      "metadata": {
        "id": "NKgflAggrU4i",
        "colab_type": "code",
        "colab": {}
      },
      "source": [
        "Rec_0 = Rectangle(int(Rectangle_0[0]), int(Rectangle_0[1]), Rectangle_0[2])"
      ],
      "execution_count": 0,
      "outputs": []
    },
    {
      "cell_type": "code",
      "metadata": {
        "id": "JkBySg3ErbJH",
        "colab_type": "code",
        "outputId": "355f6f57-364f-491c-bfc4-ebe901c2f5ba",
        "colab": {
          "base_uri": "https://localhost:8080/",
          "height": 265
        }
      },
      "source": [
        "Rec_0.drawRectangle()"
      ],
      "execution_count": 25,
      "outputs": [
        {
          "output_type": "display_data",
          "data": {
            "image/png": "[encoded data removed]",
            "text/plain": [
              "<Figure size 432x288 with 1 Axes>"
            ]
          },
          "metadata": {
            "tags": [],
            "needs_background": "light"
          }
        }
      ]
    },
    {
      "cell_type": "code",
      "metadata": {
        "id": "WbyqhG0n5NCj",
        "colab_type": "code",
        "colab": {}
      },
      "source": [
        "Rec_1 = Rectangle(int(Rectangle_1[0]), int(Rectangle_1[1]), Rectangle_1[2])"
      ],
      "execution_count": 0,
      "outputs": []
    },
    {
      "cell_type": "code",
      "metadata": {
        "id": "SzAZ39kX5Riy",
        "colab_type": "code",
        "outputId": "3c40f9f2-6f48-42d8-a48a-77d2364efffd",
        "colab": {
          "base_uri": "https://localhost:8080/",
          "height": 228
        }
      },
      "source": [
        "Rec_1.drawRectangle()"
      ],
      "execution_count": 27,
      "outputs": [
        {
          "output_type": "display_data",
          "data": {
            "image/png": "[encoded data removed]",
            "text/plain": [
              "<Figure size 432x288 with 1 Axes>"
            ]
          },
          "metadata": {
            "tags": [],
            "needs_background": "light"
          }
        }
      ]
    },
    {
      "cell_type": "code",
      "metadata": {
        "id": "tV6RqTbi5Xa8",
        "colab_type": "code",
        "colab": {}
      },
      "source": [
        "Rec_2 = Rectangle(int(Rectangle_2[0]), int(Rectangle_2[1]), Rectangle_2[2])"
      ],
      "execution_count": 0,
      "outputs": []
    },
    {
      "cell_type": "code",
      "metadata": {
        "id": "smcsn3rD5bgq",
        "colab_type": "code",
        "outputId": "6b30fc93-c103-4897-f575-add42b9a3d61",
        "colab": {
          "base_uri": "https://localhost:8080/",
          "height": 265
        }
      },
      "source": [
        "Rec_2.drawRectangle()"
      ],
      "execution_count": 29,
      "outputs": [
        {
          "output_type": "display_data",
          "data": {
            "image/png": "[encoded data removed]",
            "text/plain": [
              "<Figure size 432x288 with 1 Axes>"
            ]
          },
          "metadata": {
            "tags": [],
            "needs_background": "light"
          }
        }
      ]
    },
    {
      "cell_type": "markdown",
      "metadata": {
        "id": "azUFCtYiIX0-",
        "colab_type": "text"
      },
      "source": [
        "# Assignment 3"
      ]
    },
    {
      "cell_type": "markdown",
      "metadata": {
        "id": "gA5E3kA5IbD-",
        "colab_type": "text"
      },
      "source": [
        "- Create a method at Class Circle to calculate the size of the circle"
      ]
    },
    {
      "cell_type": "code",
      "metadata": {
        "id": "L4TAQCpQ2Al-",
        "colab_type": "code",
        "colab": {}
      },
      "source": [
        "import math\n",
        "pi = math.pi"
      ],
      "execution_count": 0,
      "outputs": []
    },
    {
      "cell_type": "code",
      "metadata": {
        "id": "0pHeSVsA0u28",
        "colab_type": "code",
        "colab": {}
      },
      "source": [
        "class Circle(object):\n",
        "\n",
        "  def __init__(self, radius, color):\n",
        "    self.radius = radius\n",
        "    self.color = color\n",
        "\n",
        "  def add_radius(self, r):\n",
        "    self.radius = self.radius + r\n",
        "    return self.radius\n",
        "\n",
        "  def change_color(self, c):\n",
        "    self.color = c\n",
        "    return self.color\n",
        "\n",
        "  def drawCircle(self):\n",
        "    plt.gca().add_patch(plt.Circle((0,0), radius = self.radius, fc = self.color))\n",
        "    plt.axis('scaled')\n",
        "    plt.show()\n",
        "\n",
        "  def sizeCircle(self):\n",
        "    return pi * self.radius**2"
      ],
      "execution_count": 0,
      "outputs": []
    },
    {
      "cell_type": "markdown",
      "metadata": {
        "id": "wGqfX6VRIkmc",
        "colab_type": "text"
      },
      "source": [
        "- Create a method at Class Rectangle to calculate the size of the rectangle"
      ]
    },
    {
      "cell_type": "code",
      "metadata": {
        "id": "jV2M0Ljm2XKX",
        "colab_type": "code",
        "colab": {}
      },
      "source": [
        "class Rectangle(object):\n",
        "\n",
        "  def __init__(self, width, height, color):\n",
        "    self.width = width\n",
        "    self.height = height\n",
        "    self.color = color\n",
        "\n",
        "  def change_width(self, w):\n",
        "    self.width = self.width + w\n",
        "    return self.width\n",
        "\n",
        "  def change_height(self, h):\n",
        "    self.height = self.height + h\n",
        "    return self.height\n",
        "\n",
        "  def change_color(self, c):\n",
        "    self.color = c\n",
        "    return self.color\n",
        "\n",
        "  def drawRectangle(self):\n",
        "    plt.gca().add_patch(plt.Rectangle((0,0), self.width, self.height, fc = self.color))\n",
        "    plt.axis('scaled')\n",
        "    plt.show()\n",
        "\n",
        "  def sizeRectangle(self):\n",
        "    return self.width * self.height"
      ],
      "execution_count": 0,
      "outputs": []
    },
    {
      "cell_type": "markdown",
      "metadata": {
        "id": "LMVOLcAtIsK6",
        "colab_type": "text"
      },
      "source": [
        "- Write the results of each calculation"
      ]
    },
    {
      "cell_type": "code",
      "metadata": {
        "id": "E_EbC6DP7FJN",
        "colab_type": "code",
        "colab": {}
      },
      "source": [
        "Cir_0 = Circle(int(Circle_0[0]), Circle_0[1])"
      ],
      "execution_count": 0,
      "outputs": []
    },
    {
      "cell_type": "code",
      "metadata": {
        "id": "vDsPlvPp6P1P",
        "colab_type": "code",
        "outputId": "a2f24fe0-cfb4-4cca-9e04-7f350e344c4d",
        "colab": {
          "base_uri": "https://localhost:8080/",
          "height": 36
        }
      },
      "source": [
        "Cir_0.sizeCircle()"
      ],
      "execution_count": 34,
      "outputs": [
        {
          "output_type": "execute_result",
          "data": {
            "text/plain": [
              "78.53981633974483"
            ]
          },
          "metadata": {
            "tags": []
          },
          "execution_count": 34
        }
      ]
    },
    {
      "cell_type": "code",
      "metadata": {
        "id": "noJ_uCxs7_l2",
        "colab_type": "code",
        "colab": {}
      },
      "source": [
        "with open('/content/gdrive/My Drive/size_Cir_0.txt', 'w') as Size_Cir_0:\n",
        "  Size_Cir_0.write(str(Cir_0.sizeCircle()))"
      ],
      "execution_count": 0,
      "outputs": []
    },
    {
      "cell_type": "code",
      "metadata": {
        "id": "ovsZzeiS8NCO",
        "colab_type": "code",
        "outputId": "688cccc9-420c-47a6-c615-adf352acec03",
        "colab": {
          "base_uri": "https://localhost:8080/",
          "height": 36
        }
      },
      "source": [
        "with open('/content/gdrive/My Drive/size_Cir_0.txt', 'r') as test_Size_Cir_0:\n",
        "  print(test_Size_Cir_0.read())"
      ],
      "execution_count": 36,
      "outputs": [
        {
          "output_type": "stream",
          "text": [
            "78.53981633974483\n"
          ],
          "name": "stdout"
        }
      ]
    },
    {
      "cell_type": "code",
      "metadata": {
        "id": "GyiVLnxU7GKf",
        "colab_type": "code",
        "colab": {}
      },
      "source": [
        "Cir_1 = Circle(int(Circle_1[0]), Circle_1[1])"
      ],
      "execution_count": 0,
      "outputs": []
    },
    {
      "cell_type": "code",
      "metadata": {
        "id": "AlaXctFl6TMb",
        "colab_type": "code",
        "outputId": "d1211e4b-3a1b-444c-e2b3-79c4f877c8c6",
        "colab": {
          "base_uri": "https://localhost:8080/",
          "height": 36
        }
      },
      "source": [
        "Cir_1.sizeCircle()"
      ],
      "execution_count": 38,
      "outputs": [
        {
          "output_type": "execute_result",
          "data": {
            "text/plain": [
              "530.929158456675"
            ]
          },
          "metadata": {
            "tags": []
          },
          "execution_count": 38
        }
      ]
    },
    {
      "cell_type": "code",
      "metadata": {
        "id": "IxZ8inrm91pr",
        "colab_type": "code",
        "colab": {}
      },
      "source": [
        "with open('/content/gdrive/My Drive/size_Cir_1.txt', 'w') as Size_Cir_1:\n",
        "  Size_Cir_1.write(str(Cir_1.sizeCircle()))"
      ],
      "execution_count": 0,
      "outputs": []
    },
    {
      "cell_type": "code",
      "metadata": {
        "id": "aM1cgBLu970l",
        "colab_type": "code",
        "outputId": "7ff150d2-7f02-46d5-b256-2b87d12068ba",
        "colab": {
          "base_uri": "https://localhost:8080/",
          "height": 36
        }
      },
      "source": [
        "with open('/content/gdrive/My Drive/size_Cir_1.txt', 'r') as test_Size_Cir_1:\n",
        "  print(test_Size_Cir_1.read())"
      ],
      "execution_count": 40,
      "outputs": [
        {
          "output_type": "stream",
          "text": [
            "530.929158456675\n"
          ],
          "name": "stdout"
        }
      ]
    },
    {
      "cell_type": "code",
      "metadata": {
        "id": "xfRwVNxz7JR9",
        "colab_type": "code",
        "colab": {}
      },
      "source": [
        "Cir_2 = Circle(int(Circle_2[0]), Circle_2[1])"
      ],
      "execution_count": 0,
      "outputs": []
    },
    {
      "cell_type": "code",
      "metadata": {
        "id": "r6TuIC9h5x7P",
        "colab_type": "code",
        "outputId": "62532f59-ba62-4aaf-a95c-a76d1d6a0d02",
        "colab": {
          "base_uri": "https://localhost:8080/",
          "height": 36
        }
      },
      "source": [
        "Cir_2.sizeCircle()"
      ],
      "execution_count": 42,
      "outputs": [
        {
          "output_type": "execute_result",
          "data": {
            "text/plain": [
              "254.46900494077323"
            ]
          },
          "metadata": {
            "tags": []
          },
          "execution_count": 42
        }
      ]
    },
    {
      "cell_type": "code",
      "metadata": {
        "id": "MMtYkAu8-RL6",
        "colab_type": "code",
        "colab": {}
      },
      "source": [
        "with open('/content/gdrive/My Drive/size_Cir_2.txt', 'w') as Size_Cir_2:\n",
        "  Size_Cir_2.write(str(Cir_2.sizeCircle()))"
      ],
      "execution_count": 0,
      "outputs": []
    },
    {
      "cell_type": "code",
      "metadata": {
        "id": "R3mB7iVc6zBx",
        "colab_type": "code",
        "outputId": "e51e915f-c6d1-4f60-ae18-b585d6cbdc3b",
        "colab": {
          "base_uri": "https://localhost:8080/",
          "height": 36
        }
      },
      "source": [
        "with open('/content/gdrive/My Drive/size_Cir_2.txt', 'r') as test_Size_Cir_2:\n",
        "  print(test_Size_Cir_2.read())"
      ],
      "execution_count": 44,
      "outputs": [
        {
          "output_type": "stream",
          "text": [
            "254.46900494077323\n"
          ],
          "name": "stdout"
        }
      ]
    },
    {
      "cell_type": "code",
      "metadata": {
        "id": "Th9-RPkG-8TI",
        "colab_type": "code",
        "colab": {}
      },
      "source": [
        "Rec_0 = Rectangle(int(Rectangle_0[0]), int(Rectangle_0[1]), Rectangle_0[2])"
      ],
      "execution_count": 0,
      "outputs": []
    },
    {
      "cell_type": "code",
      "metadata": {
        "id": "7LbeAeHU6eDq",
        "colab_type": "code",
        "outputId": "b30ffed4-180f-41e8-a2c5-b9045d410357",
        "colab": {
          "base_uri": "https://localhost:8080/",
          "height": 36
        }
      },
      "source": [
        "Rec_0.sizeRectangle()"
      ],
      "execution_count": 46,
      "outputs": [
        {
          "output_type": "execute_result",
          "data": {
            "text/plain": [
              "45"
            ]
          },
          "metadata": {
            "tags": []
          },
          "execution_count": 46
        }
      ]
    },
    {
      "cell_type": "code",
      "metadata": {
        "id": "E-q20nd6_GMI",
        "colab_type": "code",
        "colab": {}
      },
      "source": [
        "with open('/content/gdrive/My Drive/size_Rec_0.txt', 'w') as Size_Rec_0:\n",
        "  Size_Rec_0.write(str(Rec_0.sizeRectangle()))"
      ],
      "execution_count": 0,
      "outputs": []
    },
    {
      "cell_type": "code",
      "metadata": {
        "id": "Ko054oQU_Pqh",
        "colab_type": "code",
        "outputId": "3a23d286-5ac5-4b64-d6ee-cad4d3e53edb",
        "colab": {
          "base_uri": "https://localhost:8080/",
          "height": 36
        }
      },
      "source": [
        "with open('/content/gdrive/My Drive/size_Rec_0.txt', 'r') as test_Size_Rec_0:\n",
        "  print(test_Size_Rec_0.read())"
      ],
      "execution_count": 48,
      "outputs": [
        {
          "output_type": "stream",
          "text": [
            "45\n"
          ],
          "name": "stdout"
        }
      ]
    },
    {
      "cell_type": "code",
      "metadata": {
        "id": "m0720yFu-9kj",
        "colab_type": "code",
        "colab": {}
      },
      "source": [
        "Rec_1 = Rectangle(int(Rectangle_1[0]), int(Rectangle_1[1]), Rectangle_1[2])"
      ],
      "execution_count": 0,
      "outputs": []
    },
    {
      "cell_type": "code",
      "metadata": {
        "id": "8cLB6AgC6u4Y",
        "colab_type": "code",
        "outputId": "5f4402a4-90df-4a88-b238-0ba426f87b43",
        "colab": {
          "base_uri": "https://localhost:8080/",
          "height": 36
        }
      },
      "source": [
        "Rec_1.sizeRectangle()"
      ],
      "execution_count": 50,
      "outputs": [
        {
          "output_type": "execute_result",
          "data": {
            "text/plain": [
              "91"
            ]
          },
          "metadata": {
            "tags": []
          },
          "execution_count": 50
        }
      ]
    },
    {
      "cell_type": "code",
      "metadata": {
        "id": "4s3OlQ8W_eSH",
        "colab_type": "code",
        "colab": {}
      },
      "source": [
        "with open('/content/gdrive/My Drive/size_Rec_1.txt', 'w') as Size_Rec_1:\n",
        "  Size_Rec_1.write(str(Rec_1.sizeRectangle()))"
      ],
      "execution_count": 0,
      "outputs": []
    },
    {
      "cell_type": "code",
      "metadata": {
        "id": "cYlXo-G1_g5s",
        "colab_type": "code",
        "outputId": "4702e664-3184-4f1c-c0b5-0d4dc7dd8472",
        "colab": {
          "base_uri": "https://localhost:8080/",
          "height": 36
        }
      },
      "source": [
        "with open('/content/gdrive/My Drive/size_Rec_1.txt', 'r') as test_Size_Rec_1:\n",
        "  print(test_Size_Rec_1.read())"
      ],
      "execution_count": 52,
      "outputs": [
        {
          "output_type": "stream",
          "text": [
            "91\n"
          ],
          "name": "stdout"
        }
      ]
    },
    {
      "cell_type": "code",
      "metadata": {
        "id": "BBZwlP46_BEv",
        "colab_type": "code",
        "colab": {}
      },
      "source": [
        "Rec_2 = Rectangle(int(Rectangle_2[0]), int(Rectangle_2[1]), Rectangle_2[2])"
      ],
      "execution_count": 0,
      "outputs": []
    },
    {
      "cell_type": "code",
      "metadata": {
        "id": "10J7CXvN6wGW",
        "colab_type": "code",
        "outputId": "96bda4d1-edb3-4e0e-f366-b91e0dc6ff6a",
        "colab": {
          "base_uri": "https://localhost:8080/",
          "height": 36
        }
      },
      "source": [
        "Rec_2.sizeRectangle()"
      ],
      "execution_count": 54,
      "outputs": [
        {
          "output_type": "execute_result",
          "data": {
            "text/plain": [
              "945"
            ]
          },
          "metadata": {
            "tags": []
          },
          "execution_count": 54
        }
      ]
    },
    {
      "cell_type": "code",
      "metadata": {
        "id": "ZnCfvjwZ6xgh",
        "colab_type": "code",
        "colab": {}
      },
      "source": [
        "with open('/content/gdrive/My Drive/size_Rec_2.txt', 'w') as Size_Rec_2:\n",
        "  Size_Rec_2.write(str(Rec_2.sizeRectangle()))"
      ],
      "execution_count": 0,
      "outputs": []
    },
    {
      "cell_type": "code",
      "metadata": {
        "id": "q9oBFFC0_hW7",
        "colab_type": "code",
        "outputId": "6f141330-673f-48da-f720-2bff091d88c2",
        "colab": {
          "base_uri": "https://localhost:8080/",
          "height": 36
        }
      },
      "source": [
        "with open('/content/gdrive/My Drive/size_Rec_2.txt', 'r') as test_Size_Rec_2:\n",
        "  print(test_Size_Rec_2.read())"
      ],
      "execution_count": 56,
      "outputs": [
        {
          "output_type": "stream",
          "text": [
            "945\n"
          ],
          "name": "stdout"
        }
      ]
    }
  ]
}