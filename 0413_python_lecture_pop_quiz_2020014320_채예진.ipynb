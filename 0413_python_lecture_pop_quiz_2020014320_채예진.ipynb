{
  "nbformat": 4,
  "nbformat_minor": 0,
  "metadata": {
    "colab": {
      "name": "0413 python lecture pop quiz - 2020014320 채예진.ipynb",
      "provenance": [],
      "collapsed_sections": [],
      "authorship_tag": "ABX9TyNmZI7baqbSWPP5OR6P7x67",
      "include_colab_link": true
    },
    "kernelspec": {
      "name": "python3",
      "display_name": "Python 3"
    }
  },
  "cells": [
    {
      "cell_type": "markdown",
      "metadata": {
        "id": "view-in-github",
        "colab_type": "text"
      },
      "source": [
        "<a href=\"https://colab.research.google.com/github/Chae-Yejin/Python_1/blob/master/0413_python_lecture_pop_quiz_2020014320_%EC%B1%84%EC%98%88%EC%A7%84.ipynb\" target=\"_parent\"><img src=\"https://colab.research.google.com/assets/colab-badge.svg\" alt=\"Open In Colab\"/></a>"
      ]
    },
    {
      "cell_type": "markdown",
      "metadata": {
        "id": "NaNDqsPkHWSs",
        "colab_type": "text"
      },
      "source": [
        "##### #Q1 Write your code below and press Shift+Enter to execute."
      ]
    },
    {
      "cell_type": "code",
      "metadata": {
        "id": "A2VrVh2XG1Re",
        "colab_type": "code",
        "outputId": "d70623b0-f197-4bd1-eee0-331dc38b6798",
        "colab": {
          "base_uri": "https://localhost:8080/",
          "height": 36
        }
      },
      "source": [
        "print(\"Hello World!!!\")"
      ],
      "execution_count": 0,
      "outputs": [
        {
          "output_type": "stream",
          "text": [
            "Hello World!!!\n"
          ],
          "name": "stdout"
        }
      ]
    },
    {
      "cell_type": "markdown",
      "metadata": {
        "id": "eLQxLLwyJf3g",
        "colab_type": "text"
      },
      "source": [
        "##### #Q2-1 Write your code below about \"What is the data type of the result 6 / 2?\"."
      ]
    },
    {
      "cell_type": "code",
      "metadata": {
        "id": "8--YSuTEHz7n",
        "colab_type": "code",
        "outputId": "a46b92fa-b3cf-4b8b-b49a-74c81623ae48",
        "colab": {
          "base_uri": "https://localhost:8080/",
          "height": 55
        }
      },
      "source": [
        "print(6/2)\n",
        "print(type(6/2))"
      ],
      "execution_count": 0,
      "outputs": [
        {
          "output_type": "stream",
          "text": [
            "3.0\n",
            "<class 'float'>\n"
          ],
          "name": "stdout"
        }
      ]
    },
    {
      "cell_type": "markdown",
      "metadata": {
        "id": "aOCx0lKOKWhr",
        "colab_type": "text"
      },
      "source": [
        "##### #Q2-2 Write your code below about \"What is the data type of the result 6 // 2?\"."
      ]
    },
    {
      "cell_type": "code",
      "metadata": {
        "id": "wDruQTx8J_Mb",
        "colab_type": "code",
        "outputId": "02185238-edc4-4f38-915f-07a5adf70567",
        "colab": {
          "base_uri": "https://localhost:8080/",
          "height": 55
        }
      },
      "source": [
        "print(6//2)\n",
        "print(type(6//2))"
      ],
      "execution_count": 0,
      "outputs": [
        {
          "output_type": "stream",
          "text": [
            "3\n",
            "<class 'int'>\n"
          ],
          "name": "stdout"
        }
      ]
    },
    {
      "cell_type": "markdown",
      "metadata": {
        "id": "8T-SFFNNKwag",
        "colab_type": "text"
      },
      "source": [
        "##### #Q3 Write a code to read the total mins (e.g, 1300) to the right representing the hour, and the minute separately."
      ]
    },
    {
      "cell_type": "code",
      "metadata": {
        "id": "kkFi-rDyKeXU",
        "colab_type": "code",
        "outputId": "b78b2b98-894f-46e2-d3d7-9229ed53b9b4",
        "colab": {
          "base_uri": "https://localhost:8080/",
          "height": 111
        }
      },
      "source": [
        "Total_Min = 1300\n",
        "Total_Hour = Total_Min/60\n",
        "\n",
        "print(Total_Min)\n",
        "print(Total_Hour)\n",
        "\n",
        "print(int(Total_Hour))\n",
        "print(int(Total_Min%60))\n",
        "\n",
        "Total_Time_Representing = str(int(Total_Hour)) + \" hours \" + str(int(Total_Min%60)) + \" minutes\"\n",
        "print(Total_Time_Representing)"
      ],
      "execution_count": 0,
      "outputs": [
        {
          "output_type": "stream",
          "text": [
            "1300\n",
            "21.666666666666668\n",
            "21\n",
            "40\n",
            "21 hours 40 minutes\n"
          ],
          "name": "stdout"
        }
      ]
    }
  ]
}