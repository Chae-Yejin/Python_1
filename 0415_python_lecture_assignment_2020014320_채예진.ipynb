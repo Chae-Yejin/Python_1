{
  "nbformat": 4,
  "nbformat_minor": 0,
  "metadata": {
    "colab": {
      "name": "0415 python lecture assignment - 2020014320 채예진.ipynb",
      "provenance": [],
      "authorship_tag": "ABX9TyPfFcKz+FO9oelga8nFCobC",
      "include_colab_link": true
    },
    "kernelspec": {
      "name": "python3",
      "display_name": "Python 3"
    }
  },
  "cells": [
    {
      "cell_type": "markdown",
      "metadata": {
        "id": "view-in-github",
        "colab_type": "text"
      },
      "source": [
        "<a href=\"https://colab.research.google.com/github/Chae-Yejin/Python_1/blob/master/0415_python_lecture_assignment_2020014320_%EC%B1%84%EC%98%88%EC%A7%84.ipynb\" target=\"_parent\"><img src=\"https://colab.research.google.com/assets/colab-badge.svg\" alt=\"Open In Colab\"/></a>"
      ]
    },
    {
      "cell_type": "markdown",
      "metadata": {
        "id": "OVn6jBrmJv9G",
        "colab_type": "text"
      },
      "source": [
        "##### Assignment #1 \n",
        "Play around how to use some built-in functions with strings"
      ]
    },
    {
      "cell_type": "code",
      "metadata": {
        "id": "bUyrvMsiJn84",
        "colab_type": "code",
        "colab": {}
      },
      "source": [
        "ML = \"Machine Learning\""
      ],
      "execution_count": 0,
      "outputs": []
    },
    {
      "cell_type": "code",
      "metadata": {
        "id": "h8-7wZFNAWks",
        "colab_type": "code",
        "colab": {
          "base_uri": "https://localhost:8080/",
          "height": 36
        },
        "outputId": "7a298806-e9f9-46ad-af37-71e2e86274d4"
      },
      "source": [
        "print(ML)"
      ],
      "execution_count": 2,
      "outputs": [
        {
          "output_type": "stream",
          "text": [
            "Machine Learning\n"
          ],
          "name": "stdout"
        }
      ]
    },
    {
      "cell_type": "code",
      "metadata": {
        "id": "KIN-aGoPAYZn",
        "colab_type": "code",
        "colab": {
          "base_uri": "https://localhost:8080/",
          "height": 36
        },
        "outputId": "e87e66ff-ac06-4438-fc62-757c209ee795"
      },
      "source": [
        "print(ML.capitalize()) # converts the first character to upper case"
      ],
      "execution_count": 3,
      "outputs": [
        {
          "output_type": "stream",
          "text": [
            "Machine learning\n"
          ],
          "name": "stdout"
        }
      ]
    },
    {
      "cell_type": "code",
      "metadata": {
        "id": "5uZpM0rEEPdH",
        "colab_type": "code",
        "colab": {
          "base_uri": "https://localhost:8080/",
          "height": 36
        },
        "outputId": "9acc562a-535c-4133-a09b-51a56d4e39d0"
      },
      "source": [
        "print(ML.casefold()) # converts string into lower case"
      ],
      "execution_count": 4,
      "outputs": [
        {
          "output_type": "stream",
          "text": [
            "machine learning\n"
          ],
          "name": "stdout"
        }
      ]
    },
    {
      "cell_type": "code",
      "metadata": {
        "id": "AXlkwOakFb8O",
        "colab_type": "code",
        "colab": {
          "base_uri": "https://localhost:8080/",
          "height": 55
        },
        "outputId": "32d29214-cdff-4a92-8d05-9a174f249d17"
      },
      "source": [
        "print(ML.center(50)) # returns a centered string\n",
        "print(ML.center(50,'!'))"
      ],
      "execution_count": 5,
      "outputs": [
        {
          "output_type": "stream",
          "text": [
            "                 Machine Learning                 \n",
            "!!!!!!!!!!!!!!!!!Machine Learning!!!!!!!!!!!!!!!!!\n"
          ],
          "name": "stdout"
        }
      ]
    },
    {
      "cell_type": "code",
      "metadata": {
        "id": "cyJHisNLSVWu",
        "colab_type": "code",
        "colab": {
          "base_uri": "https://localhost:8080/",
          "height": 55
        },
        "outputId": "4079fe03-dd03-4830-bf95-04a0da64689e"
      },
      "source": [
        "print(ML.count('a')) # returns the number of times a specified value occurs in a string\n",
        "print(ML.count('a',0,7)) # sets the range(starting and ending point)"
      ],
      "execution_count": 6,
      "outputs": [
        {
          "output_type": "stream",
          "text": [
            "2\n",
            "1\n"
          ],
          "name": "stdout"
        }
      ]
    },
    {
      "cell_type": "code",
      "metadata": {
        "id": "pGQX3bqXUCAn",
        "colab_type": "code",
        "colab": {
          "base_uri": "https://localhost:8080/",
          "height": 55
        },
        "outputId": "798ede0d-32f5-4562-acab-bd9ff999e3ed"
      },
      "source": [
        "print(ML.encode()) # returns an encoded version of the string\n",
        "print('머신러닝'.encode())"
      ],
      "execution_count": 7,
      "outputs": [
        {
          "output_type": "stream",
          "text": [
            "b'Machine Learning'\n",
            "b'\\xeb\\xa8\\xb8\\xec\\x8b\\xa0\\xeb\\x9f\\xac\\xeb\\x8b\\x9d'\n"
          ],
          "name": "stdout"
        }
      ]
    },
    {
      "cell_type": "code",
      "metadata": {
        "id": "5W59rSZbUkvP",
        "colab_type": "code",
        "colab": {
          "base_uri": "https://localhost:8080/",
          "height": 73
        },
        "outputId": "3e446b3c-5390-4a1d-be02-1539c904c4e6"
      },
      "source": [
        "print(ML.endswith('g')) # returns True if the string ends with the specified value\n",
        "print(ML.endswith('e',0,7)) # sets the range\n",
        "print(ML.endswith('!'))"
      ],
      "execution_count": 8,
      "outputs": [
        {
          "output_type": "stream",
          "text": [
            "True\n",
            "True\n",
            "False\n"
          ],
          "name": "stdout"
        }
      ]
    },
    {
      "cell_type": "code",
      "metadata": {
        "id": "yq1Vg00tWrDC",
        "colab_type": "code",
        "colab": {
          "base_uri": "https://localhost:8080/",
          "height": 55
        },
        "outputId": "5cca24a6-e294-4866-88d5-18067fa5098d"
      },
      "source": [
        "print('ML \\t is great'.expandtabs(10)) # sets the tab size of the string\n",
        "print('ML \\t is great'.expandtabs()) # blank --> tab size 8"
      ],
      "execution_count": 9,
      "outputs": [
        {
          "output_type": "stream",
          "text": [
            "ML         is great\n",
            "ML       is great\n"
          ],
          "name": "stdout"
        }
      ]
    },
    {
      "cell_type": "code",
      "metadata": {
        "id": "MvgPsyIsb_x_",
        "colab_type": "code",
        "colab": {
          "base_uri": "https://localhost:8080/",
          "height": 111
        },
        "outputId": "9c2d4dc4-0215-483e-de20-27bbede51475"
      },
      "source": [
        "print(ML.find('M')) # searches the string for a specified value and returns the position of where it was found\n",
        "print(ML.find('n')) # returns the lowest index\n",
        "print(ML.find('n',6)) # sets the starting point\n",
        "print(ML.find('n',13,15)) # sets the range\n",
        "print(ML.find('p')) # returns -1 on failure"
      ],
      "execution_count": 10,
      "outputs": [
        {
          "output_type": "stream",
          "text": [
            "0\n",
            "5\n",
            "12\n",
            "14\n",
            "-1\n"
          ],
          "name": "stdout"
        }
      ]
    },
    {
      "cell_type": "code",
      "metadata": {
        "id": "_9Se296ZgCix",
        "colab_type": "code",
        "colab": {
          "base_uri": "https://localhost:8080/",
          "height": 36
        },
        "outputId": "1b126189-570e-49e3-f639-1ff5308b815c"
      },
      "source": [
        "'{} is great'.format(ML) # formats specified values in a string"
      ],
      "execution_count": 11,
      "outputs": [
        {
          "output_type": "execute_result",
          "data": {
            "text/plain": [
              "'Machine Learning is great'"
            ]
          },
          "metadata": {
            "tags": []
          },
          "execution_count": 11
        }
      ]
    },
    {
      "cell_type": "code",
      "metadata": {
        "id": "68KkQqpHr4xv",
        "colab_type": "code",
        "colab": {
          "base_uri": "https://localhost:8080/",
          "height": 251
        },
        "outputId": "a67ad625-1e3c-498d-cf05-4d20f50f8ee6"
      },
      "source": [
        "print(ML.index('M')) # index = find\n",
        "print(ML.index('n',8))\n",
        "print(ML.index('p')) # returns ERROR on failure"
      ],
      "execution_count": 12,
      "outputs": [
        {
          "output_type": "stream",
          "text": [
            "0\n",
            "12\n"
          ],
          "name": "stdout"
        },
        {
          "output_type": "error",
          "ename": "ValueError",
          "evalue": "ignored",
          "traceback": [
            "\u001b[0;31m---------------------------------------------------------------------------\u001b[0m",
            "\u001b[0;31mValueError\u001b[0m                                Traceback (most recent call last)",
            "\u001b[0;32m<ipython-input-12-22c63f80e037>\u001b[0m in \u001b[0;36m<module>\u001b[0;34m()\u001b[0m\n\u001b[1;32m      1\u001b[0m \u001b[0mprint\u001b[0m\u001b[0;34m(\u001b[0m\u001b[0mML\u001b[0m\u001b[0;34m.\u001b[0m\u001b[0mindex\u001b[0m\u001b[0;34m(\u001b[0m\u001b[0;34m'M'\u001b[0m\u001b[0;34m)\u001b[0m\u001b[0;34m)\u001b[0m \u001b[0;31m# index = find\u001b[0m\u001b[0;34m\u001b[0m\u001b[0;34m\u001b[0m\u001b[0m\n\u001b[1;32m      2\u001b[0m \u001b[0mprint\u001b[0m\u001b[0;34m(\u001b[0m\u001b[0mML\u001b[0m\u001b[0;34m.\u001b[0m\u001b[0mindex\u001b[0m\u001b[0;34m(\u001b[0m\u001b[0;34m'n'\u001b[0m\u001b[0;34m,\u001b[0m\u001b[0;36m8\u001b[0m\u001b[0;34m)\u001b[0m\u001b[0;34m)\u001b[0m\u001b[0;34m\u001b[0m\u001b[0;34m\u001b[0m\u001b[0m\n\u001b[0;32m----> 3\u001b[0;31m \u001b[0mprint\u001b[0m\u001b[0;34m(\u001b[0m\u001b[0mML\u001b[0m\u001b[0;34m.\u001b[0m\u001b[0mindex\u001b[0m\u001b[0;34m(\u001b[0m\u001b[0;34m'p'\u001b[0m\u001b[0;34m)\u001b[0m\u001b[0;34m)\u001b[0m \u001b[0;31m# returns ERROR on failure\u001b[0m\u001b[0;34m\u001b[0m\u001b[0;34m\u001b[0m\u001b[0m\n\u001b[0m",
            "\u001b[0;31mValueError\u001b[0m: substring not found"
          ]
        }
      ]
    },
    {
      "cell_type": "code",
      "metadata": {
        "id": "hix2iYnbtX3U",
        "colab_type": "code",
        "colab": {
          "base_uri": "https://localhost:8080/",
          "height": 73
        },
        "outputId": "9c979eaf-dad9-4ec1-9716-4dc551393327"
      },
      "source": [
        "print(ML.isalnum()) # returns True if all characters in the string are alphanumeric (no blank, no !/@,#$_...)\n",
        "print('MachineLearning123'.isalnum())\n",
        "print('!!!'.isalnum())"
      ],
      "execution_count": 13,
      "outputs": [
        {
          "output_type": "stream",
          "text": [
            "False\n",
            "True\n",
            "False\n"
          ],
          "name": "stdout"
        }
      ]
    },
    {
      "cell_type": "code",
      "metadata": {
        "id": "0HQXnbotvQQI",
        "colab_type": "code",
        "colab": {
          "base_uri": "https://localhost:8080/",
          "height": 92
        },
        "outputId": "01989712-32bb-4740-bce8-5499c0d9f274"
      },
      "source": [
        "print(ML.isalpha()) # returns True if all characters in the string are in the alphabet\n",
        "print('MachineLearning123'.isalpha())\n",
        "print('MachineLearning'.isalpha())\n",
        "print('!!!'.isalpha())"
      ],
      "execution_count": 14,
      "outputs": [
        {
          "output_type": "stream",
          "text": [
            "False\n",
            "False\n",
            "True\n",
            "False\n"
          ],
          "name": "stdout"
        }
      ]
    },
    {
      "cell_type": "code",
      "metadata": {
        "id": "yCUbCXUrzGof",
        "colab_type": "code",
        "colab": {
          "base_uri": "https://localhost:8080/",
          "height": 55
        },
        "outputId": "2a4b1c1f-f022-4fa5-ed57-12cb46c8fc8f"
      },
      "source": [
        "print('4253'.isdecimal()) # returns True if all characters in the string are decimals\n",
        "print('123.456'.isdecimal()) # 2**2, 1/2 --> False"
      ],
      "execution_count": 15,
      "outputs": [
        {
          "output_type": "stream",
          "text": [
            "True\n",
            "False\n"
          ],
          "name": "stdout"
        }
      ]
    },
    {
      "cell_type": "code",
      "metadata": {
        "id": "dB42tT6B0X__",
        "colab_type": "code",
        "colab": {
          "base_uri": "https://localhost:8080/",
          "height": 55
        },
        "outputId": "61cd80cb-fb65-43af-c0a1-74c63ef7d236"
      },
      "source": [
        "print('4253'.isdigit()) # returns True if all characters in the string are digits\n",
        "print('123.456'.isdigit()) # 2**2 --> True, 1/2 --> False"
      ],
      "execution_count": 16,
      "outputs": [
        {
          "output_type": "stream",
          "text": [
            "True\n",
            "False\n"
          ],
          "name": "stdout"
        }
      ]
    },
    {
      "cell_type": "code",
      "metadata": {
        "id": "oZrs1MqS1Sdx",
        "colab_type": "code",
        "colab": {
          "base_uri": "https://localhost:8080/",
          "height": 111
        },
        "outputId": "51ac9700-5c16-4917-ac86-5ad4ba6b35c4"
      },
      "source": [
        "print(ML.isidentifier()) # returns True if the string is an identifier\n",
        "print('Machine_Learning'.isidentifier())\n",
        "print('Machine!Learning'.isidentifier())\n",
        "print('ML123'.isidentifier())\n",
        "print('123ML'.isidentifier())"
      ],
      "execution_count": 17,
      "outputs": [
        {
          "output_type": "stream",
          "text": [
            "False\n",
            "True\n",
            "False\n",
            "True\n",
            "False\n"
          ],
          "name": "stdout"
        }
      ]
    },
    {
      "cell_type": "code",
      "metadata": {
        "id": "taD78Nc4SG-n",
        "colab_type": "code",
        "colab": {
          "base_uri": "https://localhost:8080/",
          "height": 55
        },
        "outputId": "9f03be25-8c2f-4291-930d-238312c807b4"
      },
      "source": [
        "print(ML.islower()) # returns True if all characters in the string are lower case\n",
        "print('machine learning'.islower())"
      ],
      "execution_count": 18,
      "outputs": [
        {
          "output_type": "stream",
          "text": [
            "False\n",
            "True\n"
          ],
          "name": "stdout"
        }
      ]
    },
    {
      "cell_type": "code",
      "metadata": {
        "id": "Wx8yvkfDSgsR",
        "colab_type": "code",
        "colab": {
          "base_uri": "https://localhost:8080/",
          "height": 55
        },
        "outputId": "a9a92b85-c40d-4001-8b1f-72011c701137"
      },
      "source": [
        "print('4253'.isnumeric()) # returns True if all characters in the string are numeric\n",
        "print('123.456'.isnumeric()) # 2**2 --> True, 1/2 --> True"
      ],
      "execution_count": 19,
      "outputs": [
        {
          "output_type": "stream",
          "text": [
            "True\n",
            "False\n"
          ],
          "name": "stdout"
        }
      ]
    },
    {
      "cell_type": "code",
      "metadata": {
        "id": "WjWGiJs2T9FT",
        "colab_type": "code",
        "colab": {
          "base_uri": "https://localhost:8080/",
          "height": 55
        },
        "outputId": "893c02ed-6214-418c-97d2-704e75ef204b"
      },
      "source": [
        "print(ML.isprintable()) # returns True if all characters in the string are printable\n",
        "print('Machine \\n Learning'.isprintable())"
      ],
      "execution_count": 20,
      "outputs": [
        {
          "output_type": "stream",
          "text": [
            "True\n",
            "False\n"
          ],
          "name": "stdout"
        }
      ]
    },
    {
      "cell_type": "code",
      "metadata": {
        "id": "c8a2nNSZUrbR",
        "colab_type": "code",
        "colab": {
          "base_uri": "https://localhost:8080/",
          "height": 55
        },
        "outputId": "64dca9b6-061e-4fdb-b670-9bdd8a8c4914"
      },
      "source": [
        "print(ML.isspace()) # returns True if all characters in the string are whitespaces\n",
        "print('   '.isspace())"
      ],
      "execution_count": 21,
      "outputs": [
        {
          "output_type": "stream",
          "text": [
            "False\n",
            "True\n"
          ],
          "name": "stdout"
        }
      ]
    },
    {
      "cell_type": "code",
      "metadata": {
        "id": "K48Ug7DOVW4k",
        "colab_type": "code",
        "colab": {
          "base_uri": "https://localhost:8080/",
          "height": 73
        },
        "outputId": "193c76ef-02ca-45fc-89c6-96a5feb6ca87"
      },
      "source": [
        "print(ML.istitle()) # returns True if the string follows the rules of a title\n",
        "print('Machine_Learning'.istitle())\n",
        "print('Machine learning'.istitle())"
      ],
      "execution_count": 22,
      "outputs": [
        {
          "output_type": "stream",
          "text": [
            "True\n",
            "True\n",
            "False\n"
          ],
          "name": "stdout"
        }
      ]
    },
    {
      "cell_type": "code",
      "metadata": {
        "id": "t3gO0mPUWA5s",
        "colab_type": "code",
        "colab": {
          "base_uri": "https://localhost:8080/",
          "height": 55
        },
        "outputId": "5b971bd8-6497-44fb-85ba-aa7460d4edf3"
      },
      "source": [
        "print(ML.isupper()) # returns True if all characters in the string are upper case\n",
        "print('MACHINE LEARNING'.isupper())"
      ],
      "execution_count": 23,
      "outputs": [
        {
          "output_type": "stream",
          "text": [
            "False\n",
            "True\n"
          ],
          "name": "stdout"
        }
      ]
    },
    {
      "cell_type": "code",
      "metadata": {
        "id": "SP4OOe_aWQ5d",
        "colab_type": "code",
        "colab": {
          "base_uri": "https://localhost:8080/",
          "height": 36
        },
        "outputId": "38498b89-8b90-4178-c5f0-95c5585ea0e7"
      },
      "source": [
        "print('_'.join(ML)) # joins the elements of an iterable to the end of the string"
      ],
      "execution_count": 24,
      "outputs": [
        {
          "output_type": "stream",
          "text": [
            "M_a_c_h_i_n_e_ _L_e_a_r_n_i_n_g\n"
          ],
          "name": "stdout"
        }
      ]
    },
    {
      "cell_type": "code",
      "metadata": {
        "id": "tw3o7aw_XFOx",
        "colab_type": "code",
        "colab": {
          "base_uri": "https://localhost:8080/",
          "height": 55
        },
        "outputId": "3a042f70-93c2-4ab5-cc3a-d8d26848fcf6"
      },
      "source": [
        "print(ML.ljust(30)) # returns a left justified version of the string\n",
        "print(ML.ljust(30,'!'))"
      ],
      "execution_count": 25,
      "outputs": [
        {
          "output_type": "stream",
          "text": [
            "Machine Learning              \n",
            "Machine Learning!!!!!!!!!!!!!!\n"
          ],
          "name": "stdout"
        }
      ]
    },
    {
      "cell_type": "code",
      "metadata": {
        "id": "-rcr6cbTXf1E",
        "colab_type": "code",
        "colab": {
          "base_uri": "https://localhost:8080/",
          "height": 36
        },
        "outputId": "88f3a218-2791-4a49-c669-93131b1e1766"
      },
      "source": [
        "print(ML.lower()) # converts a string into lower case"
      ],
      "execution_count": 26,
      "outputs": [
        {
          "output_type": "stream",
          "text": [
            "machine learning\n"
          ],
          "name": "stdout"
        }
      ]
    },
    {
      "cell_type": "code",
      "metadata": {
        "id": "6g4-8WIjYgZF",
        "colab_type": "code",
        "colab": {
          "base_uri": "https://localhost:8080/",
          "height": 36
        },
        "outputId": "656634ee-3dab-441c-cd39-3c0b4b5a37b5"
      },
      "source": [
        "print('          Machine Learning'.lstrip()) # returns a left trim version of the string"
      ],
      "execution_count": 27,
      "outputs": [
        {
          "output_type": "stream",
          "text": [
            "Machine Learning\n"
          ],
          "name": "stdout"
        }
      ]
    },
    {
      "cell_type": "code",
      "metadata": {
        "id": "NG46CW1mYaQh",
        "colab_type": "code",
        "colab": {
          "base_uri": "https://localhost:8080/",
          "height": 73
        },
        "outputId": "aa15c5b1-d66a-43ce-af20-deae16cb8724"
      },
      "source": [
        "print(ML.partition(' ')) # returns a tuple where the string is parted into three parts\n",
        "print(ML.partition('!'))\n",
        "print('Machine_Learn_ing'.partition('_'))"
      ],
      "execution_count": 28,
      "outputs": [
        {
          "output_type": "stream",
          "text": [
            "('Machine', ' ', 'Learning')\n",
            "('Machine Learning', '', '')\n",
            "('Machine', '_', 'Learn_ing')\n"
          ],
          "name": "stdout"
        }
      ]
    },
    {
      "cell_type": "code",
      "metadata": {
        "id": "o63EGqrYYRIw",
        "colab_type": "code",
        "colab": {
          "base_uri": "https://localhost:8080/",
          "height": 55
        },
        "outputId": "deb438f8-0531-4557-e3be-89bfb0337dbc"
      },
      "source": [
        "print(ML.replace('Machine', 'Deep')) # returns a string where a specified value is replaced with a specified value\n",
        "print('machine machine learing'.replace('machine', 'deep', 1))"
      ],
      "execution_count": 29,
      "outputs": [
        {
          "output_type": "stream",
          "text": [
            "Deep Learning\n",
            "deep machine learing\n"
          ],
          "name": "stdout"
        }
      ]
    },
    {
      "cell_type": "code",
      "metadata": {
        "id": "GCqckEjJbT_f",
        "colab_type": "code",
        "colab": {
          "base_uri": "https://localhost:8080/",
          "height": 73
        },
        "outputId": "0aa76bec-1c9c-485f-89ae-39a63b9ad4f4"
      },
      "source": [
        "print(ML.rfind('n')) # searches the string for a specified value and returns the last position of where it was found\n",
        "print(ML.rfind('n',0,7))\n",
        "print(ML.rfind('p'))"
      ],
      "execution_count": 30,
      "outputs": [
        {
          "output_type": "stream",
          "text": [
            "14\n",
            "5\n",
            "-1\n"
          ],
          "name": "stdout"
        }
      ]
    },
    {
      "cell_type": "code",
      "metadata": {
        "id": "OjOsyzUgbT12",
        "colab_type": "code",
        "colab": {
          "base_uri": "https://localhost:8080/",
          "height": 251
        },
        "outputId": "84452f9a-8437-4024-f831-c360cc751751"
      },
      "source": [
        "print(ML.rindex('n')) # rindex = rfind\n",
        "print(ML.rindex('n',0,7))\n",
        "print(ML.rindex('p')) # ERROR"
      ],
      "execution_count": 31,
      "outputs": [
        {
          "output_type": "stream",
          "text": [
            "14\n",
            "5\n"
          ],
          "name": "stdout"
        },
        {
          "output_type": "error",
          "ename": "ValueError",
          "evalue": "ignored",
          "traceback": [
            "\u001b[0;31m---------------------------------------------------------------------------\u001b[0m",
            "\u001b[0;31mValueError\u001b[0m                                Traceback (most recent call last)",
            "\u001b[0;32m<ipython-input-31-31061f88b9b8>\u001b[0m in \u001b[0;36m<module>\u001b[0;34m()\u001b[0m\n\u001b[1;32m      1\u001b[0m \u001b[0mprint\u001b[0m\u001b[0;34m(\u001b[0m\u001b[0mML\u001b[0m\u001b[0;34m.\u001b[0m\u001b[0mrindex\u001b[0m\u001b[0;34m(\u001b[0m\u001b[0;34m'n'\u001b[0m\u001b[0;34m)\u001b[0m\u001b[0;34m)\u001b[0m \u001b[0;31m# rindex = rfind\u001b[0m\u001b[0;34m\u001b[0m\u001b[0;34m\u001b[0m\u001b[0m\n\u001b[1;32m      2\u001b[0m \u001b[0mprint\u001b[0m\u001b[0;34m(\u001b[0m\u001b[0mML\u001b[0m\u001b[0;34m.\u001b[0m\u001b[0mrindex\u001b[0m\u001b[0;34m(\u001b[0m\u001b[0;34m'n'\u001b[0m\u001b[0;34m,\u001b[0m\u001b[0;36m0\u001b[0m\u001b[0;34m,\u001b[0m\u001b[0;36m7\u001b[0m\u001b[0;34m)\u001b[0m\u001b[0;34m)\u001b[0m\u001b[0;34m\u001b[0m\u001b[0;34m\u001b[0m\u001b[0m\n\u001b[0;32m----> 3\u001b[0;31m \u001b[0mprint\u001b[0m\u001b[0;34m(\u001b[0m\u001b[0mML\u001b[0m\u001b[0;34m.\u001b[0m\u001b[0mrindex\u001b[0m\u001b[0;34m(\u001b[0m\u001b[0;34m'p'\u001b[0m\u001b[0;34m)\u001b[0m\u001b[0;34m)\u001b[0m \u001b[0;31m# ERROR\u001b[0m\u001b[0;34m\u001b[0m\u001b[0;34m\u001b[0m\u001b[0m\n\u001b[0m",
            "\u001b[0;31mValueError\u001b[0m: substring not found"
          ]
        }
      ]
    },
    {
      "cell_type": "code",
      "metadata": {
        "id": "s_NoqPCgbTlj",
        "colab_type": "code",
        "colab": {
          "base_uri": "https://localhost:8080/",
          "height": 55
        },
        "outputId": "0b3cc1ed-ebe4-4f5c-c484-fbc094cdf107"
      },
      "source": [
        "print(ML.rjust(30)) # returns a right justified version of the string\n",
        "print(ML.rjust(30,'!'))"
      ],
      "execution_count": 32,
      "outputs": [
        {
          "output_type": "stream",
          "text": [
            "              Machine Learning\n",
            "!!!!!!!!!!!!!!Machine Learning\n"
          ],
          "name": "stdout"
        }
      ]
    },
    {
      "cell_type": "code",
      "metadata": {
        "id": "NkVZARJvc-MW",
        "colab_type": "code",
        "colab": {
          "base_uri": "https://localhost:8080/",
          "height": 73
        },
        "outputId": "e6869b8e-a8bc-43ae-ef4c-3c1df0c90408"
      },
      "source": [
        "print(ML.rpartition(' ')) # returns a tuple where the string is parted into three parts\n",
        "print(ML.rpartition('!'))\n",
        "print('Machine_Learn_ing'.rpartition('_'))"
      ],
      "execution_count": 33,
      "outputs": [
        {
          "output_type": "stream",
          "text": [
            "('Machine', ' ', 'Learning')\n",
            "('', '', 'Machine Learning')\n",
            "('Machine_Learn', '_', 'ing')\n"
          ],
          "name": "stdout"
        }
      ]
    },
    {
      "cell_type": "code",
      "metadata": {
        "id": "gQeydRdbc-EK",
        "colab_type": "code",
        "colab": {
          "base_uri": "https://localhost:8080/",
          "height": 73
        },
        "outputId": "0dc4c62f-ea54-45a9-921c-26754515c3c4"
      },
      "source": [
        "print(ML.rsplit()) # splits the string at the specified separator, and returns a list\n",
        "print('Mach_ine_Learn_ing'.rsplit('_'))\n",
        "print('Mach_ine_Learn_ing'.rsplit('_',2))"
      ],
      "execution_count": 34,
      "outputs": [
        {
          "output_type": "stream",
          "text": [
            "['Machine', 'Learning']\n",
            "['Mach', 'ine', 'Learn', 'ing']\n",
            "['Mach_ine', 'Learn', 'ing']\n"
          ],
          "name": "stdout"
        }
      ]
    },
    {
      "cell_type": "code",
      "metadata": {
        "id": "x8NudyoEc99S",
        "colab_type": "code",
        "colab": {
          "base_uri": "https://localhost:8080/",
          "height": 36
        },
        "outputId": "83e53d2e-41f3-4f69-d918-64524f1790af"
      },
      "source": [
        "print('Machine Learning           '.rstrip()) # returns a right trim version of the string"
      ],
      "execution_count": 35,
      "outputs": [
        {
          "output_type": "stream",
          "text": [
            "Machine Learning\n"
          ],
          "name": "stdout"
        }
      ]
    },
    {
      "cell_type": "code",
      "metadata": {
        "id": "MOLJRglleZ31",
        "colab_type": "code",
        "colab": {
          "base_uri": "https://localhost:8080/",
          "height": 73
        },
        "outputId": "ead80284-5b56-4ec7-b6b7-5afebf4af73d"
      },
      "source": [
        "print(ML.split()) # splits the string at the specified separator, and returns a list\n",
        "print('Mach_ine_Learn_ing'.split('_'))\n",
        "print('Mach_ine_Learn_ing'.split('_',2))"
      ],
      "execution_count": 36,
      "outputs": [
        {
          "output_type": "stream",
          "text": [
            "['Machine', 'Learning']\n",
            "['Mach', 'ine', 'Learn', 'ing']\n",
            "['Mach', 'ine', 'Learn_ing']\n"
          ],
          "name": "stdout"
        }
      ]
    },
    {
      "cell_type": "code",
      "metadata": {
        "id": "LP5EKm4AeZyq",
        "colab_type": "code",
        "colab": {
          "base_uri": "https://localhost:8080/",
          "height": 36
        },
        "outputId": "1b8554a1-7893-42a7-beab-c72afe621e55"
      },
      "source": [
        "print('Mach\\rine\\nLearn\\ring'.splitlines()) # splits the string at line breaks and returns a list"
      ],
      "execution_count": 37,
      "outputs": [
        {
          "output_type": "stream",
          "text": [
            "['Mach', 'ine', 'Learn', 'ing']\n"
          ],
          "name": "stdout"
        }
      ]
    },
    {
      "cell_type": "code",
      "metadata": {
        "id": "jc25JOGmc9z3",
        "colab_type": "code",
        "colab": {
          "base_uri": "https://localhost:8080/",
          "height": 73
        },
        "outputId": "fbed559a-dcfa-4176-d542-e4a14c2b6a1c"
      },
      "source": [
        "print(ML.startswith('M')) # returns True if the string starts with the specified value\n",
        "print(ML.startswith('L',8,15))\n",
        "print(ML.startswith('!'))"
      ],
      "execution_count": 38,
      "outputs": [
        {
          "output_type": "stream",
          "text": [
            "True\n",
            "True\n",
            "False\n"
          ],
          "name": "stdout"
        }
      ]
    },
    {
      "cell_type": "code",
      "metadata": {
        "id": "cFA5ZfG-c9pp",
        "colab_type": "code",
        "colab": {
          "base_uri": "https://localhost:8080/",
          "height": 36
        },
        "outputId": "b206a0cd-685c-4eaf-fd17-c5b5ad72a430"
      },
      "source": [
        "print('        Machine Learning           '.strip()) # returns a trimmed version of the string"
      ],
      "execution_count": 39,
      "outputs": [
        {
          "output_type": "stream",
          "text": [
            "Machine Learning\n"
          ],
          "name": "stdout"
        }
      ]
    },
    {
      "cell_type": "code",
      "metadata": {
        "id": "YN2OHZDHhCgb",
        "colab_type": "code",
        "colab": {
          "base_uri": "https://localhost:8080/",
          "height": 36
        },
        "outputId": "b58baa18-994b-4a41-8926-867bc212c6c2"
      },
      "source": [
        "print(ML.swapcase()) # swaps cases, lower case becomes upper case and vice versa"
      ],
      "execution_count": 40,
      "outputs": [
        {
          "output_type": "stream",
          "text": [
            "mACHINE lEARNING\n"
          ],
          "name": "stdout"
        }
      ]
    },
    {
      "cell_type": "code",
      "metadata": {
        "id": "_w8tzqlAhCcJ",
        "colab_type": "code",
        "colab": {
          "base_uri": "https://localhost:8080/",
          "height": 36
        },
        "outputId": "cfc07db3-6597-4033-eb75-650201c03bfe"
      },
      "source": [
        "print('machine learning'.title()) # converts the first character of each word to upper case"
      ],
      "execution_count": 41,
      "outputs": [
        {
          "output_type": "stream",
          "text": [
            "Machine Learning\n"
          ],
          "name": "stdout"
        }
      ]
    },
    {
      "cell_type": "code",
      "metadata": {
        "id": "1hiPOIk1hCax",
        "colab_type": "code",
        "colab": {
          "base_uri": "https://localhost:8080/",
          "height": 36
        },
        "outputId": "bdcaaa85-f6f0-4d51-9af6-0f4da00fe01e"
      },
      "source": [
        "print(ML.upper()) # converts a string into upper case"
      ],
      "execution_count": 42,
      "outputs": [
        {
          "output_type": "stream",
          "text": [
            "MACHINE LEARNING\n"
          ],
          "name": "stdout"
        }
      ]
    },
    {
      "cell_type": "code",
      "metadata": {
        "id": "5puTO1V1hCVa",
        "colab_type": "code",
        "colab": {
          "base_uri": "https://localhost:8080/",
          "height": 36
        },
        "outputId": "fb933b34-2e03-40e3-f229-52ef3d3163d0"
      },
      "source": [
        "print(ML.zfill(30)) # fills the string with specified number of 0 values at the beginning"
      ],
      "execution_count": 43,
      "outputs": [
        {
          "output_type": "stream",
          "text": [
            "00000000000000Machine Learning\n"
          ],
          "name": "stdout"
        }
      ]
    },
    {
      "cell_type": "markdown",
      "metadata": {
        "id": "xbFPYb0CLC4J",
        "colab_type": "text"
      },
      "source": [
        "##### Assignment #2\n",
        "Apply what you have learnt from string section, do repeat the many operations you played in the section. (e.g., stride, slicing...)"
      ]
    },
    {
      "cell_type": "code",
      "metadata": {
        "id": "0yOMYXMflYhe",
        "colab_type": "code",
        "colab": {
          "base_uri": "https://localhost:8080/",
          "height": 36
        },
        "outputId": "9d8363d8-c164-48d0-86e7-a243f30b6e0d"
      },
      "source": [
        "print(ML)"
      ],
      "execution_count": 44,
      "outputs": [
        {
          "output_type": "stream",
          "text": [
            "Machine Learning\n"
          ],
          "name": "stdout"
        }
      ]
    },
    {
      "cell_type": "code",
      "metadata": {
        "id": "6VaJlii-LPmi",
        "colab_type": "code",
        "colab": {
          "base_uri": "https://localhost:8080/",
          "height": 73
        },
        "outputId": "33937bdc-1ea0-474c-e1ee-cb6607edbd59"
      },
      "source": [
        "#indexing\n",
        "\n",
        "print(ML[0])\n",
        "print(ML[8])\n",
        "print(ML[-1])"
      ],
      "execution_count": 45,
      "outputs": [
        {
          "output_type": "stream",
          "text": [
            "M\n",
            "L\n",
            "g\n"
          ],
          "name": "stdout"
        }
      ]
    },
    {
      "cell_type": "code",
      "metadata": {
        "id": "hdtttIsxmGvV",
        "colab_type": "code",
        "colab": {
          "base_uri": "https://localhost:8080/",
          "height": 55
        },
        "outputId": "f89c2742-253e-4aee-d5cb-4e90cd179448"
      },
      "source": [
        "print(len(ML))\n",
        "print(ML[len(ML)-1])"
      ],
      "execution_count": 46,
      "outputs": [
        {
          "output_type": "stream",
          "text": [
            "16\n",
            "g\n"
          ],
          "name": "stdout"
        }
      ]
    },
    {
      "cell_type": "code",
      "metadata": {
        "id": "t0KXWm0KlU4R",
        "colab_type": "code",
        "colab": {
          "base_uri": "https://localhost:8080/",
          "height": 92
        },
        "outputId": "ce9fde91-c066-4e41-ca12-e6961b3ec0e4"
      },
      "source": [
        "# slicing\n",
        "\n",
        "print(ML[:])\n",
        "print(ML[:7])\n",
        "print(ML[8:13])\n",
        "print(ML[8:])"
      ],
      "execution_count": 47,
      "outputs": [
        {
          "output_type": "stream",
          "text": [
            "Machine Learning\n",
            "Machine\n",
            "Learn\n",
            "Learning\n"
          ],
          "name": "stdout"
        }
      ]
    },
    {
      "cell_type": "code",
      "metadata": {
        "id": "DOHn4UWzlPN9",
        "colab_type": "code",
        "colab": {
          "base_uri": "https://localhost:8080/",
          "height": 73
        },
        "outputId": "689ab500-3827-41a5-bcaa-e31d1e8823b4"
      },
      "source": [
        "# stride\n",
        "\n",
        "print(ML[::2])\n",
        "print(ML[:7:2])\n",
        "print(ML[8::2])"
      ],
      "execution_count": 48,
      "outputs": [
        {
          "output_type": "stream",
          "text": [
            "McieLann\n",
            "Mcie\n",
            "Lann\n"
          ],
          "name": "stdout"
        }
      ]
    },
    {
      "cell_type": "code",
      "metadata": {
        "id": "r1GLCZUalkz9",
        "colab_type": "code",
        "colab": {
          "base_uri": "https://localhost:8080/",
          "height": 55
        },
        "outputId": "0c0cc733-4778-4b78-b93b-a1032f082b82"
      },
      "source": [
        "# operation with strings\n",
        "\n",
        "statement = \"is great\"\n",
        "opinion = ML + statement\n",
        "print(opinion)\n",
        "\n",
        "ML_3 = ML * 3\n",
        "print(ML_3)"
      ],
      "execution_count": 49,
      "outputs": [
        {
          "output_type": "stream",
          "text": [
            "Machine Learningis great\n",
            "Machine LearningMachine LearningMachine Learning\n"
          ],
          "name": "stdout"
        }
      ]
    },
    {
      "cell_type": "code",
      "metadata": {
        "id": "D-0qpgL0no3j",
        "colab_type": "code",
        "colab": {
          "base_uri": "https://localhost:8080/",
          "height": 92
        },
        "outputId": "94fb3cc6-8b15-4a81-d6d0-26ecb9ab2091"
      },
      "source": [
        "# escape code\n",
        "\n",
        "print('Machine \\n Learning')\n",
        "print('Machine \\t Learning')\n",
        "print('\\'Machine Learning\\'')"
      ],
      "execution_count": 50,
      "outputs": [
        {
          "output_type": "stream",
          "text": [
            "Machine \n",
            " Learning\n",
            "Machine \t Learning\n",
            "'Machine Learning'\n"
          ],
          "name": "stdout"
        }
      ]
    },
    {
      "cell_type": "markdown",
      "metadata": {
        "id": "VTYnUp4_pSMa",
        "colab_type": "text"
      },
      "source": [
        "##### Assignment #3"
      ]
    },
    {
      "cell_type": "code",
      "metadata": {
        "id": "VpOnlkDMozaz",
        "colab_type": "code",
        "colab": {
          "base_uri": "https://localhost:8080/",
          "height": 36
        },
        "outputId": "2594dd88-f277-49e6-bc7b-a4ab2af6b01b"
      },
      "source": [
        "tuple_Genre = (\"Pop\", \"Rock\", \"Soul\", \"Hard Rock\", \"Soft rock\", \"R&B\", \"Progressive rock\", \"Disco\")\n",
        "print(tuple_Genre)"
      ],
      "execution_count": 51,
      "outputs": [
        {
          "output_type": "stream",
          "text": [
            "('Pop', 'Rock', 'Soul', 'Hard Rock', 'Soft rock', 'R&B', 'Progressive rock', 'Disco')\n"
          ],
          "name": "stdout"
        }
      ]
    },
    {
      "cell_type": "code",
      "metadata": {
        "id": "HqQFt_PBpqui",
        "colab_type": "code",
        "colab": {
          "base_uri": "https://localhost:8080/",
          "height": 36
        },
        "outputId": "83c912a2-3308-4e93-8b49-0f6b1e5074d5"
      },
      "source": [
        "tuple_Genre.index(\"R&B\")"
      ],
      "execution_count": 52,
      "outputs": [
        {
          "output_type": "execute_result",
          "data": {
            "text/plain": [
              "5"
            ]
          },
          "metadata": {
            "tags": []
          },
          "execution_count": 52
        }
      ]
    }
  ]
}