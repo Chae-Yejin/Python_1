{
  "nbformat": 4,
  "nbformat_minor": 0,
  "metadata": {
    "colab": {
      "name": "0417 python assignment - 2020014320 채예진.ipynb",
      "provenance": [],
      "collapsed_sections": [],
      "authorship_tag": "ABX9TyOdKCJNPgDPdpqpYx3Zg2sI",
      "include_colab_link": true
    },
    "kernelspec": {
      "name": "python3",
      "display_name": "Python 3"
    }
  },
  "cells": [
    {
      "cell_type": "markdown",
      "metadata": {
        "id": "view-in-github",
        "colab_type": "text"
      },
      "source": [
        "<a href=\"https://colab.research.google.com/github/Chae-Yejin/Python_1/blob/master/0417_python_assignment_2020014320_%EC%B1%84%EC%98%88%EC%A7%84.ipynb\" target=\"_parent\"><img src=\"https://colab.research.google.com/assets/colab-badge.svg\" alt=\"Open In Colab\"/></a>"
      ]
    },
    {
      "cell_type": "markdown",
      "metadata": {
        "id": "Lf-mW7piwmfS",
        "colab_type": "text"
      },
      "source": [
        "### Assignment #1"
      ]
    },
    {
      "cell_type": "markdown",
      "metadata": {
        "id": "XPE_v3JPwy6a",
        "colab_type": "text"
      },
      "source": [
        "##### 1. Create a list a_list, with the following elements 1, hello, [1, 2, 3] and True (i.e., Boolean)."
      ]
    },
    {
      "cell_type": "code",
      "metadata": {
        "id": "DHENbQ6cttY1",
        "colab_type": "code",
        "colab": {}
      },
      "source": [
        "a_list = [1, \"hello\", [1,2,3], True]"
      ],
      "execution_count": 0,
      "outputs": []
    },
    {
      "cell_type": "code",
      "metadata": {
        "id": "g9egaHKuyzCB",
        "colab_type": "code",
        "colab": {
          "base_uri": "https://localhost:8080/",
          "height": 36
        },
        "outputId": "56d86029-2958-4378-da54-f458656993a1"
      },
      "source": [
        "print(a_list)"
      ],
      "execution_count": 2,
      "outputs": [
        {
          "output_type": "stream",
          "text": [
            "[1, 'hello', [1, 2, 3], True]\n"
          ],
          "name": "stdout"
        }
      ]
    },
    {
      "cell_type": "markdown",
      "metadata": {
        "id": "4T0VFfCmxNd9",
        "colab_type": "text"
      },
      "source": [
        "##### 2. Find the value stored at index 1 of a_list."
      ]
    },
    {
      "cell_type": "code",
      "metadata": {
        "id": "7irqVZ-JxRVV",
        "colab_type": "code",
        "colab": {
          "base_uri": "https://localhost:8080/",
          "height": 36
        },
        "outputId": "fda7e534-0587-4880-ff99-974be968eece"
      },
      "source": [
        "print(a_list[1])"
      ],
      "execution_count": 3,
      "outputs": [
        {
          "output_type": "stream",
          "text": [
            "hello\n"
          ],
          "name": "stdout"
        }
      ]
    },
    {
      "cell_type": "markdown",
      "metadata": {
        "id": "nYrfNiNBxVLk",
        "colab_type": "text"
      },
      "source": [
        "##### 3. Retrieve the elements stored at index 1, 2, and 3 of a_list."
      ]
    },
    {
      "cell_type": "code",
      "metadata": {
        "id": "Ode7vB-hxaNs",
        "colab_type": "code",
        "colab": {
          "base_uri": "https://localhost:8080/",
          "height": 73
        },
        "outputId": "037efe8a-97d7-4af5-a383-6f5f402cdcd4"
      },
      "source": [
        "print(a_list[1])\n",
        "print(a_list[2])\n",
        "print(a_list[3])"
      ],
      "execution_count": 4,
      "outputs": [
        {
          "output_type": "stream",
          "text": [
            "hello\n",
            "[1, 2, 3]\n",
            "True\n"
          ],
          "name": "stdout"
        }
      ]
    },
    {
      "cell_type": "markdown",
      "metadata": {
        "id": "kvRJyXvzxsv5",
        "colab_type": "text"
      },
      "source": [
        "##### 4. Concatenate the following lists A = [1, 'a'] and B = [2, 1, 'd']"
      ]
    },
    {
      "cell_type": "code",
      "metadata": {
        "id": "X5LcOhZZxyi8",
        "colab_type": "code",
        "colab": {}
      },
      "source": [
        "A = [1, \"a\"]\n",
        "B = [2, 1, \"d\"]"
      ],
      "execution_count": 0,
      "outputs": []
    },
    {
      "cell_type": "code",
      "metadata": {
        "id": "Wkh9TNe9ysTv",
        "colab_type": "code",
        "colab": {}
      },
      "source": [
        "A.extend(B)"
      ],
      "execution_count": 0,
      "outputs": []
    },
    {
      "cell_type": "code",
      "metadata": {
        "id": "20iD9T2HzQXH",
        "colab_type": "code",
        "colab": {
          "base_uri": "https://localhost:8080/",
          "height": 36
        },
        "outputId": "381250ff-1c87-41ce-aece-8bfc8b2a8252"
      },
      "source": [
        "print(A)"
      ],
      "execution_count": 7,
      "outputs": [
        {
          "output_type": "stream",
          "text": [
            "[1, 'a', 2, 1, 'd']\n"
          ],
          "name": "stdout"
        }
      ]
    },
    {
      "cell_type": "markdown",
      "metadata": {
        "id": "WD6vDhRV1hN3",
        "colab_type": "text"
      },
      "source": [
        "### Assignment #2"
      ]
    },
    {
      "cell_type": "markdown",
      "metadata": {
        "id": "ZuI3Tt8q1orW",
        "colab_type": "text"
      },
      "source": [
        "Declare the soundtrack dictionary such as soundtrack_dic = {\"The Bodyguard\" : \"1992\", \"Saturday Night Fever\" : \"1977\"}"
      ]
    },
    {
      "cell_type": "code",
      "metadata": {
        "id": "3kugWGW37wUp",
        "colab_type": "code",
        "colab": {}
      },
      "source": [
        "soundtrack_dic = {\"The Bodyguard\":\"1992\", \"Saturday Night Fever\":\"1977\"}"
      ],
      "execution_count": 0,
      "outputs": []
    },
    {
      "cell_type": "code",
      "metadata": {
        "id": "JQBg-hcD9nTA",
        "colab_type": "code",
        "colab": {
          "base_uri": "https://localhost:8080/",
          "height": 36
        },
        "outputId": "fa1511a3-4985-4fe4-f1c7-35f09cccb533"
      },
      "source": [
        "print(soundtrack_dic)"
      ],
      "execution_count": 9,
      "outputs": [
        {
          "output_type": "stream",
          "text": [
            "{'The Bodyguard': '1992', 'Saturday Night Fever': '1977'}\n"
          ],
          "name": "stdout"
        }
      ]
    },
    {
      "cell_type": "markdown",
      "metadata": {
        "id": "5Leae7FR2G_i",
        "colab_type": "text"
      },
      "source": [
        "##### 1. Write a code to display all of the keys."
      ]
    },
    {
      "cell_type": "code",
      "metadata": {
        "id": "aRh6vFPJz0aZ",
        "colab_type": "code",
        "colab": {}
      },
      "source": [
        "dict_keys = soundtrack_dic.keys()"
      ],
      "execution_count": 0,
      "outputs": []
    },
    {
      "cell_type": "code",
      "metadata": {
        "id": "FTWWUCQ_99ye",
        "colab_type": "code",
        "colab": {
          "base_uri": "https://localhost:8080/",
          "height": 36
        },
        "outputId": "72d5ca30-4ba4-4f1a-ecdb-76e80b068d77"
      },
      "source": [
        "print(dict_keys)"
      ],
      "execution_count": 11,
      "outputs": [
        {
          "output_type": "stream",
          "text": [
            "dict_keys(['The Bodyguard', 'Saturday Night Fever'])\n"
          ],
          "name": "stdout"
        }
      ]
    },
    {
      "cell_type": "markdown",
      "metadata": {
        "id": "T_4A7RqM2LOA",
        "colab_type": "text"
      },
      "source": [
        "##### 2. Write a code to display all of the values."
      ]
    },
    {
      "cell_type": "code",
      "metadata": {
        "id": "ygAcoDlQ2OFe",
        "colab_type": "code",
        "colab": {}
      },
      "source": [
        "dict_values = soundtrack_dic.values()"
      ],
      "execution_count": 0,
      "outputs": []
    },
    {
      "cell_type": "code",
      "metadata": {
        "id": "kusZzXD_-GdU",
        "colab_type": "code",
        "colab": {
          "base_uri": "https://localhost:8080/",
          "height": 36
        },
        "outputId": "da49fd58-c20f-4da2-862d-3de280a36630"
      },
      "source": [
        "print(dict_values)"
      ],
      "execution_count": 13,
      "outputs": [
        {
          "output_type": "stream",
          "text": [
            "dict_values(['1992', '1977'])\n"
          ],
          "name": "stdout"
        }
      ]
    },
    {
      "cell_type": "markdown",
      "metadata": {
        "id": "elDVIav3-NK4",
        "colab_type": "text"
      },
      "source": [
        "### Assignment #3"
      ]
    },
    {
      "cell_type": "markdown",
      "metadata": {
        "id": "vDgxV2Lo-lLQ",
        "colab_type": "text"
      },
      "source": [
        "##### 1. Convert the list ['rap', 'house', 'electronic music', 'rap'] to a set.**굵은 텍스트**"
      ]
    },
    {
      "cell_type": "code",
      "metadata": {
        "id": "F2UOiitt-H9T",
        "colab_type": "code",
        "colab": {}
      },
      "source": [
        "set1 = set([\"rap\", \"house\", \"electronic music\", \"rap\"])"
      ],
      "execution_count": 0,
      "outputs": []
    },
    {
      "cell_type": "code",
      "metadata": {
        "id": "mbLvSAzYn8C-",
        "colab_type": "code",
        "colab": {
          "base_uri": "https://localhost:8080/",
          "height": 36
        },
        "outputId": "7770794a-82f2-423f-a237-a94c07d1afff"
      },
      "source": [
        "print(set1)"
      ],
      "execution_count": 15,
      "outputs": [
        {
          "output_type": "stream",
          "text": [
            "{'house', 'rap', 'electronic music'}\n"
          ],
          "name": "stdout"
        }
      ]
    },
    {
      "cell_type": "markdown",
      "metadata": {
        "id": "9JyQCcu0-xi6",
        "colab_type": "text"
      },
      "source": [
        "##### 2. Consider the list A = [1, 2, 2, 1] and set B = set([1, 2, 2, 1]), does sum(A) = sum(B)?"
      ]
    },
    {
      "cell_type": "code",
      "metadata": {
        "id": "jE8BYFYV_CDw",
        "colab_type": "code",
        "colab": {}
      },
      "source": [
        "A = [1, 2, 2, 1]\n",
        "B = set([1, 2, 2, 1])"
      ],
      "execution_count": 0,
      "outputs": []
    },
    {
      "cell_type": "code",
      "metadata": {
        "id": "Z2IoH8U5pIxe",
        "colab_type": "code",
        "colab": {
          "base_uri": "https://localhost:8080/",
          "height": 55
        },
        "outputId": "5cc1c879-40c4-4393-f4f8-8696fc54445b"
      },
      "source": [
        "print(A)\n",
        "print(B)"
      ],
      "execution_count": 18,
      "outputs": [
        {
          "output_type": "stream",
          "text": [
            "[1, 2, 2, 1]\n",
            "{1, 2}\n"
          ],
          "name": "stdout"
        }
      ]
    },
    {
      "cell_type": "code",
      "metadata": {
        "id": "PyiyvDKzpTP-",
        "colab_type": "code",
        "colab": {
          "base_uri": "https://localhost:8080/",
          "height": 55
        },
        "outputId": "16849a85-e7c9-4556-be10-79db6647f71f"
      },
      "source": [
        "print(sum(A))\n",
        "print(sum(B)) # They are not same."
      ],
      "execution_count": 21,
      "outputs": [
        {
          "output_type": "stream",
          "text": [
            "6\n",
            "3\n"
          ],
          "name": "stdout"
        }
      ]
    },
    {
      "cell_type": "markdown",
      "metadata": {
        "id": "_3QTa_xr_FTS",
        "colab_type": "text"
      },
      "source": [
        "##### 3. Create a new set album_set3 that is the union of album_set1 and album_set2 : album_set1 = set([\"Thriller\", \"AC/DC\", \"Back in Black\"]), album_set2 = set([\"AC/DC\", \"Back in Black\", \"The Dark Side of the Moon\"])"
      ]
    },
    {
      "cell_type": "code",
      "metadata": {
        "id": "f2gGkFb8_mm1",
        "colab_type": "code",
        "colab": {}
      },
      "source": [
        "album_set1 = set([\"Thriller\", \"AC/DC\", \"Back in Black\"])\n",
        "album_set2 = set([\"AC/DC\", \"Back in Black\", \"The Dark Side of the Moon\"])"
      ],
      "execution_count": 0,
      "outputs": []
    },
    {
      "cell_type": "code",
      "metadata": {
        "id": "9jN0-tYso5mf",
        "colab_type": "code",
        "colab": {
          "base_uri": "https://localhost:8080/",
          "height": 55
        },
        "outputId": "f8cc0658-b5a3-44f9-aab1-ea222a4c8835"
      },
      "source": [
        "print(album_set1)\n",
        "print(album_set2)"
      ],
      "execution_count": 4,
      "outputs": [
        {
          "output_type": "stream",
          "text": [
            "{'Back in Black', 'Thriller', 'AC/DC'}\n",
            "{'Back in Black', 'The Dark Side of the Moon', 'AC/DC'}\n"
          ],
          "name": "stdout"
        }
      ]
    },
    {
      "cell_type": "code",
      "metadata": {
        "id": "O9aaQ-JQog_i",
        "colab_type": "code",
        "colab": {}
      },
      "source": [
        "album_set3 = album_set1.union(album_set2)"
      ],
      "execution_count": 0,
      "outputs": []
    },
    {
      "cell_type": "code",
      "metadata": {
        "id": "GoiCkAdLo0Yr",
        "colab_type": "code",
        "colab": {
          "base_uri": "https://localhost:8080/",
          "height": 36
        },
        "outputId": "c749b4a7-bffe-4d58-8639-a2f35c128f4e"
      },
      "source": [
        "print(album_set3)"
      ],
      "execution_count": 3,
      "outputs": [
        {
          "output_type": "stream",
          "text": [
            "{'Back in Black', 'Thriller', 'The Dark Side of the Moon', 'AC/DC'}\n"
          ],
          "name": "stdout"
        }
      ]
    },
    {
      "cell_type": "markdown",
      "metadata": {
        "id": "UU4UIkt7_nZC",
        "colab_type": "text"
      },
      "source": [
        "##### 4. Find out if album_set1 is a subset of album_set3."
      ]
    },
    {
      "cell_type": "code",
      "metadata": {
        "id": "saYJowMq_zDP",
        "colab_type": "code",
        "colab": {
          "base_uri": "https://localhost:8080/",
          "height": 36
        },
        "outputId": "b9e6bdb5-0e60-4dc0-c614-23de87c6774a"
      },
      "source": [
        "print(album_set1.issubset(album_set3))"
      ],
      "execution_count": 6,
      "outputs": [
        {
          "output_type": "stream",
          "text": [
            "True\n"
          ],
          "name": "stdout"
        }
      ]
    },
    {
      "cell_type": "markdown",
      "metadata": {
        "id": "xC7IDuxprmnC",
        "colab_type": "text"
      },
      "source": [
        "### Assignment #4-1\n"
      ]
    },
    {
      "cell_type": "markdown",
      "metadata": {
        "id": "qFN2xA0KwQNB",
        "colab_type": "text"
      },
      "source": [
        "##### 1. When the Artist name is \"Michael\", print out the genre of the artist."
      ]
    },
    {
      "cell_type": "code",
      "metadata": {
        "id": "YWbgSMRYrgf_",
        "colab_type": "code",
        "colab": {}
      },
      "source": [
        "Dict = {\"Artist\": \"Michael\", \"Genre\": \"R&B\", \"Sales\": 10000}"
      ],
      "execution_count": 0,
      "outputs": []
    },
    {
      "cell_type": "code",
      "metadata": {
        "id": "30SzBhAR9NVZ",
        "colab_type": "code",
        "colab": {
          "base_uri": "https://localhost:8080/",
          "height": 36
        },
        "outputId": "d77f2e7e-24ce-49f8-c038-76443011e364"
      },
      "source": [
        "if(Dict[\"Artist\"]==\"Michael\"):\n",
        "  print(Dict[\"Genre\"])\n",
        "else:\n",
        "  print(\"None\")"
      ],
      "execution_count": 13,
      "outputs": [
        {
          "output_type": "stream",
          "text": [
            "R&B\n"
          ],
          "name": "stdout"
        }
      ]
    },
    {
      "cell_type": "markdown",
      "metadata": {
        "id": "oOn6q1Qi9l68",
        "colab_type": "text"
      },
      "source": [
        "### Assignment #4-2"
      ]
    },
    {
      "cell_type": "markdown",
      "metadata": {
        "id": "9_Qqohhj9xDN",
        "colab_type": "text"
      },
      "source": [
        "##### 1. Write a Python program to convert temperatures to and from celsius, fahrenheit (Kelvin temperature limitation is -273 celsius, e.g., declare your value at -50000, 50000)"
      ]
    },
    {
      "cell_type": "code",
      "metadata": {
        "id": "-GDnN8V69YT9",
        "colab_type": "code",
        "colab": {
          "base_uri": "https://localhost:8080/",
          "height": 55
        },
        "outputId": "09e51de1-c100-4ab2-f1d1-5cc81278ebec"
      },
      "source": [
        "celsius = 43\n",
        "fahrenheit = -500\n",
        "\n",
        "if(celsius >= -273.15):\n",
        "  print(\"{} celsius is {} fahrenheit.\".format(celsius, celsius*1.8 + 32))\n",
        "else:\n",
        "  print(\"You can't convert {} celsius into fahrenheit.\".format(celsius))\n",
        "\n",
        "if(fahrenheit >= -459.67):\n",
        "  print(\"{} fahrenheit is {} celsius.\".format(fahrenheit, (fahrenheit-32)/1.8))\n",
        "else:\n",
        "  print(\"You can't convert {} fahrenheit into celsius.\".format(fahrenheit))"
      ],
      "execution_count": 8,
      "outputs": [
        {
          "output_type": "stream",
          "text": [
            "43 celsius is 109.4 fahrenheit.\n",
            "You can't convert -500 fahrenheit into celsius.\n"
          ],
          "name": "stdout"
        }
      ]
    },
    {
      "cell_type": "markdown",
      "metadata": {
        "id": "Cx5LonOuAOE7",
        "colab_type": "text"
      },
      "source": [
        "##### 2. Write a Python program to count how many even numbers and odd numbers are in a list (e.g., L = [1, 2, 3, 5, 31, 28, 91])"
      ]
    },
    {
      "cell_type": "code",
      "metadata": {
        "id": "eYyI0i3rAhNb",
        "colab_type": "code",
        "colab": {
          "base_uri": "https://localhost:8080/",
          "height": 55
        },
        "outputId": "a43dd5e7-3a59-40da-8bbe-2f92d0bf7afe"
      },
      "source": [
        "L = [1, 2, 3, 5, 31, 28, 91]\n",
        "count_even = 0\n",
        "count_odd = 0\n",
        "\n",
        "for i in L :            # I used 'loop' for convenience.\n",
        "  if(i != 0):\n",
        "    if(i % 2 == 0):\n",
        "      count_even += 1\n",
        "    else:\n",
        "      count_odd += 1\n",
        "\n",
        "print(\"count_even = {}\".format(count_even))\n",
        "print(\"count_odd = {}\".format(count_odd))"
      ],
      "execution_count": 51,
      "outputs": [
        {
          "output_type": "stream",
          "text": [
            "count_even = 2\n",
            "count_odd = 5\n"
          ],
          "name": "stdout"
        }
      ]
    },
    {
      "cell_type": "markdown",
      "metadata": {
        "id": "aoRzIEO5Ah7N",
        "colab_type": "text"
      },
      "source": [
        "##### 3. Write a Python program, extending the codes from Question 2 in Assignment #4-2, how many prime numbers are in the list?"
      ]
    },
    {
      "cell_type": "code",
      "metadata": {
        "id": "rU1T0s7ZWekT",
        "colab_type": "code",
        "colab": {
          "base_uri": "https://localhost:8080/",
          "height": 36
        },
        "outputId": "b8e92c24-9e8e-490b-f7bc-7381ea599baa"
      },
      "source": [
        "# nested conditions\n",
        "\n",
        "L = [1, 2, 3, 5, 31, 28, 91]\n",
        "\n",
        "# ex) 5\n",
        "if(5 % 2 != 0):\n",
        "  if(5 % 3 != 0):\n",
        "    if(5 % 4 != 0):\n",
        "      print(\"5 is a prime number.\")\n",
        "    else:\n",
        "      print(\"5 is NOT a prime number.\")\n",
        "  else:\n",
        "    print(\"5 is NOT a prime number.\")\n",
        "else:\n",
        "  print(\"5 is NOT a prime number.\")"
      ],
      "execution_count": 43,
      "outputs": [
        {
          "output_type": "stream",
          "text": [
            "5 is a prime number.\n"
          ],
          "name": "stdout"
        }
      ]
    },
    {
      "cell_type": "code",
      "metadata": {
        "id": "aG0EjSEOAumU",
        "colab_type": "code",
        "colab": {
          "base_uri": "https://localhost:8080/",
          "height": 111
        },
        "outputId": "7d689eb5-5a1d-480b-cc37-e3cb1cf9f466"
      },
      "source": [
        "# The other method - use 'function' and 'loop'\n",
        "\n",
        "L = [1, 2, 3, 5, 31, 28, 91]\n",
        "count_prime = 0\n",
        "\n",
        "def prime(x):\n",
        "  if x >= 2:\n",
        "    for n in range(2,x):\n",
        "      if (x % n == 0):\n",
        "        return False\n",
        "  else:\n",
        "    return False\n",
        "  return True\n",
        "\n",
        "for i in L :\n",
        "  if prime(i):\n",
        "    count_prime += 1\n",
        "    print(i)\n",
        "\n",
        "print(\"count_prime = {}\".format(count_prime))"
      ],
      "execution_count": 44,
      "outputs": [
        {
          "output_type": "stream",
          "text": [
            "2\n",
            "3\n",
            "5\n",
            "31\n",
            "count_prime = 4\n"
          ],
          "name": "stdout"
        }
      ]
    }
  ]
}